{
 "cells": [
  {
   "cell_type": "markdown",
   "metadata": {},
   "source": [
    "<img src=\"https://bit.ly/2VnXWr2\" width=\"100\" align=\"left\">"
   ]
  },
  {
   "cell_type": "markdown",
   "metadata": {},
   "source": [
    "# Duel of Sorcerers\n",
    "You are witnessing an epic battle between two powerful sorcerers: Gandalf and Saruman. Each sorcerer has 10 spells of variable power in their mind and they are going to throw them one after the other. The winner of the duel will be the one who wins more of those clashes between spells. Spells are represented as a list of 10 integers whose value equals the power of the spell.\n",
    "```\n",
    "gandalf = [10, 11, 13, 30, 22, 11, 10, 33, 22, 22]\n",
    "saruman = [23, 66, 12, 43, 12, 10, 44, 23, 12, 17]\n",
    "```\n",
    "For example:\n",
    "- The first clash is won by Saruman: 10 against 23.\n",
    "- The second clash is won by Saruman: 11 against 66.\n",
    "- ...\n",
    "\n",
    "You will create two variables, one for each sorcerer, where the sum of clashes won will be stored. Depending on which variable is greater at the end of the duel, you will show one of the following three results on the screen:\n",
    "* Gandalf wins\n",
    "* Saruman wins\n",
    "* Tie\n",
    "\n",
    "<img src=\"images/content_lightning_bolt_big.jpg\" width=\"400\">"
   ]
  },
  {
   "cell_type": "markdown",
   "metadata": {},
   "source": [
    "## Tasks\n",
    "\n",
    "#### 1. Create two variables called `gandalf` and `saruman` and assign them the spell power lists. Create a variable called `spells` to store the number of spells that the sorcerers cast. "
   ]
  },
  {
   "cell_type": "code",
   "execution_count": 1,
   "metadata": {},
   "outputs": [],
   "source": [
    "gandalf = [10, 11, 13, 30, 22, 11, 10, 33, 22, 22]\n",
    "saruman = [23, 66, 12, 43, 12, 10, 44, 23, 12, 17]\n",
    "\n",
    "# asssume the amount of spells of both sorcerer are the same\n",
    "if len(gandalf) == len(saruman):\n",
    "    spells = len(gandalf)"
   ]
  },
  {
   "cell_type": "markdown",
   "metadata": {},
   "source": [
    "#### 2. Create two variables called `gandalf_wins` and `saruman_wins`. Set both of them to 0. \n",
    "You will use these variables to count the number of clashes each sorcerer wins. "
   ]
  },
  {
   "cell_type": "code",
   "execution_count": 2,
   "metadata": {},
   "outputs": [],
   "source": [
    "gandalf_wins = 0\n",
    "saruman_wins = 0"
   ]
  },
  {
   "cell_type": "markdown",
   "metadata": {},
   "source": [
    "#### 3. Using the lists of spells of both sorcerers, update variables `gandalf_wins` and `saruman_wins` to count the number of times each sorcerer wins a clash. "
   ]
  },
  {
   "cell_type": "code",
   "execution_count": 3,
   "metadata": {},
   "outputs": [],
   "source": [
    "for i in range(spells):\n",
    "    if gandalf[i] > saruman[i]:\n",
    "        gandalf_wins += 1\n",
    "    elif gandalf[i] < saruman[i]:\n",
    "        saruman_wins +=1"
   ]
  },
  {
   "cell_type": "markdown",
   "metadata": {},
   "source": [
    "#### 4. Who won the battle?\n",
    "Print `Gandalf wins`, `Saruman wins` or `Tie` depending on the result. "
   ]
  },
  {
   "cell_type": "code",
   "execution_count": 4,
   "metadata": {},
   "outputs": [
    {
     "name": "stdout",
     "output_type": "stream",
     "text": [
      "Gandalf won  6  spells\n",
      "Saruman won  4  spells\n",
      "Gandalf is the winner\n"
     ]
    }
   ],
   "source": [
    "print(\"Gandalf won \", gandalf_wins, \" spells\")\n",
    "print(\"Saruman won \", saruman_wins, \" spells\")\n",
    "\n",
    "if gandalf_wins > saruman_wins:\n",
    "    print(\"Gandalf is the winner\")\n",
    "elif gandalf_wins < saruman_wins:\n",
    "    print(\"Saruman is the winner\")\n",
    "else:\n",
    "    print(\"There is a tie\")"
   ]
  },
  {
   "cell_type": "markdown",
   "metadata": {},
   "source": [
    "## Bonus\n",
    "\n",
    "In this bonus challenge, you'll need to check the winner of the battle but this time, a sorcerer wins if he succeeds in winning 3 spell clashes in a row.\n",
    "\n",
    "Also, the spells now have a name and there is a dictionary that associates that name to a power.\n",
    "\n",
    "```\n",
    "POWER = {\n",
    "    'Fireball': 50, \n",
    "    'Lightning bolt': 40, \n",
    "    'Magic arrow': 10, \n",
    "    'Black Tentacles': 25, \n",
    "    'Contagion': 45\n",
    "}\n",
    "\n",
    "gandalf = ['Fireball', 'Lightning bolt', 'Lightning bolt', 'Magic arrow', 'Fireball', \n",
    "           'Magic arrow', 'Lightning bolt', 'Fireball', 'Fireball', 'Fireball']\n",
    "saruman = ['Contagion', 'Contagion', 'Black Tentacles', 'Fireball', 'Black Tentacles', \n",
    "           'Lightning bolt', 'Magic arrow', 'Contagion', 'Magic arrow', 'Magic arrow']\n",
    "```\n",
    "\n",
    "#### 1. Create variables `POWER`, `gandalf` and `saruman` as seen above. Create a variable called `spells` to store the number of spells that the sorcerers cast. "
   ]
  },
  {
   "cell_type": "code",
   "execution_count": 5,
   "metadata": {},
   "outputs": [],
   "source": [
    "power = {\n",
    "    'Fireball': 50, \n",
    "    'Lightning bolt': 40, \n",
    "    'Magic arrow': 10, \n",
    "    'Black Tentacles': 25, \n",
    "    'Contagion': 45\n",
    "}\n",
    "\n",
    "gandalf = ['Fireball', 'Lightning bolt', 'Lightning bolt', 'Magic arrow', 'Fireball', \n",
    "           'Magic arrow', 'Lightning bolt', 'Fireball', 'Fireball', 'Fireball']\n",
    "\n",
    "saruman = ['Contagion', 'Contagion', 'Black Tentacles', 'Fireball', 'Black Tentacles', \n",
    "           'Lightning bolt', 'Magic arrow', 'Contagion', 'Magic arrow', 'Magic arrow']\n",
    "\n",
    "if len(gandalf) == len(saruman):\n",
    "    spells = len(gandalf)"
   ]
  },
  {
   "cell_type": "markdown",
   "metadata": {},
   "source": [
    "#### 2. Create two variables called `gandalf_wins` and `saruman_wins`. Set both of them to 0. "
   ]
  },
  {
   "cell_type": "code",
   "execution_count": 6,
   "metadata": {},
   "outputs": [],
   "source": [
    "gandalf_wins = 0\n",
    "saruman_wins = 0"
   ]
  },
  {
   "cell_type": "markdown",
   "metadata": {},
   "source": [
    "#### 3. Create two variables called `gandalf_power` and `saruman_power` to store the list of spell powers of each sorcerer."
   ]
  },
  {
   "cell_type": "code",
   "execution_count": 7,
   "metadata": {},
   "outputs": [],
   "source": [
    "gandalf_power = []\n",
    "saruman_power = []\n",
    "\n",
    "for i in gandalf:\n",
    "    gandalf_power.append(power[i])\n",
    "\n",
    "for i in saruman:\n",
    "    saruman_power.append(power[i])"
   ]
  },
  {
   "cell_type": "markdown",
   "metadata": {},
   "source": [
    "#### 4. The battle starts! Using the variables you've created above, code the execution of spell clashes. Remember that a sorcerer wins if he succeeds in winning 3 spell clashes in a row. \n",
    "If a clash ends up in a tie, the counter of wins in a row is not restarted to 0. Remember to print who is the winner of the battle. "
   ]
  },
  {
   "cell_type": "code",
   "execution_count": 8,
   "metadata": {},
   "outputs": [
    {
     "name": "stdout",
     "output_type": "stream",
     "text": [
      "Gandalf wins\n",
      "Saruman wins\n",
      "Gandalf wins\n",
      "Saruman wins\n",
      "Gandalf wins\n",
      "Saruman wins\n",
      "Gandalf wins\n",
      "Gandalf wins\n",
      "Gandalf wins\n",
      "Gandalf  is the winner of the sorcerer's Clash, defeating the opponent 3 times in a row\n",
      "Final score is:\n",
      "Gandalf:  6\n",
      "Saruman:  3\n"
     ]
    }
   ],
   "source": [
    "# list of winners to check who wons 3 in a row\n",
    "winner_list = []\n",
    "\n",
    "for i in range(spells):\n",
    "    if gandalf_power[i] > saruman_power[i]:\n",
    "        gandalf_wins += 1\n",
    "        winner_list.append(\"Gandalf\")\n",
    "        print(\"Gandalf wins\")\n",
    "        # for winning 3 in a row, it is necessary at least 3 rounds\n",
    "        # avoids out of range errors\n",
    "        if i>2:\n",
    "            # check in the winner list if the 2 previous match were won by Gandalf\n",
    "            if (winner_list[i-1] == \"Gandalf\")&(winner_list[i-2] == \"Gandalf\"):\n",
    "                winner = \"Gandalf\"\n",
    "                # if we have a winner, we exit the loop\n",
    "                break\n",
    "    elif gandalf_power[i] < saruman_power[i]:\n",
    "        saruman_wins +=1\n",
    "        winner_list.append(\"Saruman\")\n",
    "        print(\"Saruman wins\")\n",
    "        # for winning 3 in a row, it is necessary at least 3 rounds\n",
    "        # avoids out of range errors\n",
    "        if i>2:\n",
    "            # check in the winner list if the 2 previous match were won by Gandalf\n",
    "            if (winner_list[i-1] == \"Saruman\")&(winner_list[i-2] == \"Saruman\"):\n",
    "                winner = \"Saruman\"\n",
    "                # if we have a winner, we exit the loop\n",
    "                break\n",
    "    else:\n",
    "        print(\"match tied\")\n",
    "\n",
    "print(winner, \" is the winner of the sorcerer's Clash, defeating the opponent 3 times in a row\")\n",
    "print(\"Final score is:\")\n",
    "print(\"Gandalf: \", gandalf_wins)\n",
    "print(\"Saruman: \", saruman_wins)"
   ]
  },
  {
   "cell_type": "markdown",
   "metadata": {},
   "source": [
    "#### 5. Find the average spell power of Gandalf and Saruman. "
   ]
  },
  {
   "cell_type": "code",
   "execution_count": 9,
   "metadata": {},
   "outputs": [
    {
     "name": "stdout",
     "output_type": "stream",
     "text": [
      "Average power of Gandalf is  39.0\n",
      "Average power of Saruman is  30.5\n"
     ]
    }
   ],
   "source": [
    "print(\"Average power of Gandalf is \",sum(gandalf_power)/len(gandalf_power))\n",
    "print(\"Average power of Saruman is \",sum(saruman_power)/len(saruman_power))\n"
   ]
  },
  {
   "cell_type": "markdown",
   "metadata": {},
   "source": [
    "#### 6. Find the standard deviation of the spell power of Gandalf and Saruman. "
   ]
  },
  {
   "cell_type": "code",
   "execution_count": 10,
   "metadata": {},
   "outputs": [
    {
     "name": "stdout",
     "output_type": "stream",
     "text": [
      "std dev of Gandalf power is  15.951314818673865\n",
      "std dev of Saruman power is  16.40629960309962\n"
     ]
    }
   ],
   "source": [
    "import statistics\n",
    "print(\"std dev of Gandalf power is \", statistics.stdev(gandalf_power))\n",
    "print(\"std dev of Saruman power is \", statistics.stdev(saruman_power))"
   ]
  }
 ],
 "metadata": {
  "kernelspec": {
   "display_name": "Python 3",
   "language": "python",
   "name": "python3"
  },
  "language_info": {
   "codemirror_mode": {
    "name": "ipython",
    "version": 3
   },
   "file_extension": ".py",
   "mimetype": "text/x-python",
   "name": "python",
   "nbconvert_exporter": "python",
   "pygments_lexer": "ipython3",
   "version": "3.7.5"
  }
 },
 "nbformat": 4,
 "nbformat_minor": 2
}
