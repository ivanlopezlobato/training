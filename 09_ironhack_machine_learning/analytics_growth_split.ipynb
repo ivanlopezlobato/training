{
 "cells": [
  {
   "cell_type": "code",
   "execution_count": 1,
   "metadata": {},
   "outputs": [],
   "source": [
    "import pandas as pd\n",
    "import numpy as np\n",
    "import matplotlib.pyplot as plt\n",
    "import seaborn as sns\n",
    "import pymysql\n",
    "import getpass\n",
    "\n",
    "%matplotlib inline"
   ]
  },
  {
   "cell_type": "code",
   "execution_count": 2,
   "metadata": {},
   "outputs": [
    {
     "name": "stdout",
     "output_type": "stream",
     "text": [
      "········\n"
     ]
    }
   ],
   "source": [
    "conn = pymysql.connect(host=\"localhost\",\n",
    "                       port=3306,\n",
    "                       user=\"root\",\n",
    "                       passwd=getpass.getpass(),\n",
    "                       db=\"olist\")"
   ]
  },
  {
   "cell_type": "code",
   "execution_count": 3,
   "metadata": {},
   "outputs": [],
   "source": [
    "q = \"\"\"\n",
    "SELECT DISTINCT\n",
    "    DATE_FORMAT(o.order_purchase_timestamp, \"%Y-%m-01\") AS month_id,\n",
    "    oi.seller_id\n",
    "FROM orders o\n",
    "    JOIN order_items oi\n",
    "    ON o.order_id = oi.order_id\n",
    "ORDER BY 1,2\n",
    "\"\"\"\n",
    "\n",
    "df = pd.read_sql(q,conn)"
   ]
  },
  {
   "cell_type": "code",
   "execution_count": 4,
   "metadata": {},
   "outputs": [
    {
     "data": {
      "text/html": [
       "<div>\n",
       "<style scoped>\n",
       "    .dataframe tbody tr th:only-of-type {\n",
       "        vertical-align: middle;\n",
       "    }\n",
       "\n",
       "    .dataframe tbody tr th {\n",
       "        vertical-align: top;\n",
       "    }\n",
       "\n",
       "    .dataframe thead th {\n",
       "        text-align: right;\n",
       "    }\n",
       "</style>\n",
       "<table border=\"1\" class=\"dataframe\">\n",
       "  <thead>\n",
       "    <tr style=\"text-align: right;\">\n",
       "      <th></th>\n",
       "      <th>month_id</th>\n",
       "      <th>seller_id</th>\n",
       "    </tr>\n",
       "  </thead>\n",
       "  <tbody>\n",
       "    <tr>\n",
       "      <th>0</th>\n",
       "      <td>2016-09-01</td>\n",
       "      <td>1554a68530182680ad5c8b042c3ab563</td>\n",
       "    </tr>\n",
       "    <tr>\n",
       "      <th>1</th>\n",
       "      <td>2016-09-01</td>\n",
       "      <td>a425f92c199eb576938df686728acd20</td>\n",
       "    </tr>\n",
       "    <tr>\n",
       "      <th>2</th>\n",
       "      <td>2016-09-01</td>\n",
       "      <td>ecccfa2bb93b34a3bf033cc5d1dcdc69</td>\n",
       "    </tr>\n",
       "    <tr>\n",
       "      <th>3</th>\n",
       "      <td>2016-10-01</td>\n",
       "      <td>011b0eaba87386a2ae96a7d32bb531d1</td>\n",
       "    </tr>\n",
       "    <tr>\n",
       "      <th>4</th>\n",
       "      <td>2016-10-01</td>\n",
       "      <td>01cf7e3d21494c41fb86034f2e714fa1</td>\n",
       "    </tr>\n",
       "  </tbody>\n",
       "</table>\n",
       "</div>"
      ],
      "text/plain": [
       "     month_id                         seller_id\n",
       "0  2016-09-01  1554a68530182680ad5c8b042c3ab563\n",
       "1  2016-09-01  a425f92c199eb576938df686728acd20\n",
       "2  2016-09-01  ecccfa2bb93b34a3bf033cc5d1dcdc69\n",
       "3  2016-10-01  011b0eaba87386a2ae96a7d32bb531d1\n",
       "4  2016-10-01  01cf7e3d21494c41fb86034f2e714fa1"
      ]
     },
     "execution_count": 4,
     "metadata": {},
     "output_type": "execute_result"
    }
   ],
   "source": [
    "df.head()"
   ]
  },
  {
   "cell_type": "code",
   "execution_count": 5,
   "metadata": {},
   "outputs": [
    {
     "data": {
      "text/plain": [
       "month_id     object\n",
       "seller_id    object\n",
       "dtype: object"
      ]
     },
     "execution_count": 5,
     "metadata": {},
     "output_type": "execute_result"
    }
   ],
   "source": [
    "df.dtypes"
   ]
  },
  {
   "cell_type": "code",
   "execution_count": 6,
   "metadata": {},
   "outputs": [],
   "source": [
    "df[\"month_id\"] = pd.to_datetime(df[\"month_id\"])"
   ]
  },
  {
   "cell_type": "code",
   "execution_count": null,
   "metadata": {},
   "outputs": [],
   "source": [
    "# Filter timerange\n",
    "df = df[df[\"month_id\"].between(\"2017-01-01\", \"2018-08-01\", inclusive=True)]"
   ]
  },
  {
   "cell_type": "code",
   "execution_count": null,
   "metadata": {},
   "outputs": [],
   "source": [
    "df.head()"
   ]
  },
  {
   "cell_type": "code",
   "execution_count": null,
   "metadata": {},
   "outputs": [],
   "source": [
    "sample = df[df[\"seller_id\"].eq(\"054694fa03fe82cec4b7551487331d74\")]\n",
    "sample"
   ]
  },
  {
   "cell_type": "code",
   "execution_count": null,
   "metadata": {},
   "outputs": [],
   "source": [
    "sample = sample.assign(shifted_month_id=sample[\"month_id\"].shift(1))\n",
    "sample"
   ]
  },
  {
   "cell_type": "code",
   "execution_count": null,
   "metadata": {},
   "outputs": [],
   "source": [
    "# identify new\n",
    "sample = sample.assign(growth_type = np.where(sample[\"shifted_month_id\"].isna(),\"new\", np.nan))\n",
    "sample"
   ]
  },
  {
   "cell_type": "code",
   "execution_count": null,
   "metadata": {},
   "outputs": [],
   "source": [
    "(sample[\"month_id\"] - sample[\"shifted_month_id\"])/np.timedelta64(1,\"M\")"
   ]
  },
  {
   "cell_type": "code",
   "execution_count": null,
   "metadata": {},
   "outputs": [],
   "source": [
    "sample[\"month_id\"].dt.month"
   ]
  },
  {
   "cell_type": "code",
   "execution_count": null,
   "metadata": {},
   "outputs": [],
   "source": [
    "type(sample[\"month_id\"])"
   ]
  },
  {
   "cell_type": "code",
   "execution_count": null,
   "metadata": {},
   "outputs": [],
   "source": [
    "type(sample.month_id)"
   ]
  },
  {
   "cell_type": "code",
   "execution_count": null,
   "metadata": {},
   "outputs": [],
   "source": [
    "sample"
   ]
  },
  {
   "cell_type": "code",
   "execution_count": null,
   "metadata": {},
   "outputs": [],
   "source": [
    "sample = sample.assign(previous_month=sample[\"month_id\"] - pd.offsets.MonthEnd() - pd.offsets.MonthBegin())\n",
    "sample"
   ]
  },
  {
   "cell_type": "code",
   "execution_count": null,
   "metadata": {},
   "outputs": [],
   "source": [
    "sample.loc[sample[\"growth_type\"].isna(), \"growth_type\"] = np.where(sample[\"shifted_month_id\"].eq(sample[\"previous_month\"]),\"repeat\", \"return\")\n",
    "sample"
   ]
  },
  {
   "cell_type": "markdown",
   "metadata": {},
   "source": [
    "---"
   ]
  },
  {
   "cell_type": "code",
   "execution_count": null,
   "metadata": {},
   "outputs": [],
   "source": [
    "df.head()"
   ]
  },
  {
   "cell_type": "code",
   "execution_count": null,
   "metadata": {},
   "outputs": [],
   "source": [
    "df_shifted = df.assign(shifted_month=df[\"month_id\"] + pd.DateOffset(months=1))\n",
    "df_shifted.head()"
   ]
  },
  {
   "cell_type": "code",
   "execution_count": null,
   "metadata": {},
   "outputs": [],
   "source": [
    "df_first = (df\n",
    "            .groupby(\"seller_id\")\n",
    "            .min()\n",
    "            .reset_index()\n",
    "            .rename(columns={\"month_id\":\"first_month\"}))\n",
    "\n",
    "df_first"
   ]
  },
  {
   "cell_type": "code",
   "execution_count": null,
   "metadata": {},
   "outputs": [],
   "source": [
    "df = df.merge(df_first, how=\"left\", on=\"seller_id\")\n",
    "df.head()"
   ]
  },
  {
   "cell_type": "code",
   "execution_count": null,
   "metadata": {},
   "outputs": [],
   "source": [
    "df = df.merge(df_shifted, \n",
    "              how=\"outer\", \n",
    "              left_on=[\"month_id\", \"seller_id\"], \n",
    "              right_on=[\"shifted_month\", \"seller_id\"])\n",
    "\n",
    "df"
   ]
  },
  {
   "cell_type": "code",
   "execution_count": null,
   "metadata": {},
   "outputs": [],
   "source": [
    "# remove the rows outside the daterange (after aug 2018)\n",
    "df = df[~df[\"shifted_month\"].eq(df[\"shifted_month\"].max())].copy()"
   ]
  },
  {
   "cell_type": "code",
   "execution_count": null,
   "metadata": {},
   "outputs": [],
   "source": [
    "df.head()"
   ]
  },
  {
   "cell_type": "code",
   "execution_count": null,
   "metadata": {},
   "outputs": [],
   "source": [
    "df.isna().sum()"
   ]
  },
  {
   "cell_type": "code",
   "execution_count": null,
   "metadata": {},
   "outputs": [],
   "source": [
    "# coalesce month_id\n",
    "df = df.assign(month_id = df[\"month_id_x\"].combine_first(df[\"shifted_month\"]))\n",
    "df.head()"
   ]
  },
  {
   "cell_type": "code",
   "execution_count": null,
   "metadata": {},
   "outputs": [],
   "source": [
    "df = (df\n",
    "      .assign(inactive_1m = df[\"month_id_x\"].isna().astype(int))\n",
    "      .assign(new=df[\"month_id_x\"].eq(df[\"first_month\"]).astype(int))\n",
    "      .assign(repeat=df[\"month_id_x\"].eq(df[\"shifted_month\"]).astype(int)))"
   ]
  },
  {
   "cell_type": "code",
   "execution_count": null,
   "metadata": {},
   "outputs": [],
   "source": [
    "df = df.assign(returning = 1 - df[[\"inactive_1m\", \"new\", \"repeat\"]].sum(axis=1))"
   ]
  },
  {
   "cell_type": "code",
   "execution_count": null,
   "metadata": {},
   "outputs": [],
   "source": [
    "df.loc[[134]][[\"inactive_1m\", \"new\", \"repeat\", \"returning\"]]"
   ]
  },
  {
   "cell_type": "code",
   "execution_count": null,
   "metadata": {},
   "outputs": [],
   "source": [
    "df.loc[[134]][[\"inactive_1m\", \"new\", \"repeat\", \"returning\"]].idxmax(axis=1)"
   ]
  },
  {
   "cell_type": "code",
   "execution_count": null,
   "metadata": {},
   "outputs": [],
   "source": [
    "df.loc[[5923]][[\"inactive_1m\", \"new\", \"repeat\", \"returning\"]]"
   ]
  },
  {
   "cell_type": "code",
   "execution_count": null,
   "metadata": {},
   "outputs": [],
   "source": [
    "df.loc[[5923]][[\"inactive_1m\", \"new\", \"repeat\", \"returning\"]].idxmax(axis=1)"
   ]
  },
  {
   "cell_type": "markdown",
   "metadata": {},
   "source": [
    "---"
   ]
  },
  {
   "cell_type": "code",
   "execution_count": null,
   "metadata": {},
   "outputs": [],
   "source": [
    "df = df.assign(growth_type = df[[\"inactive_1m\", \"new\", \"repeat\", \"returning\"]].idxmax(axis=1))\n",
    "df = df[[\"month_id\", \"seller_id\", \"growth_type\"]].copy()"
   ]
  },
  {
   "cell_type": "code",
   "execution_count": null,
   "metadata": {},
   "outputs": [],
   "source": [
    "df.head()"
   ]
  },
  {
   "cell_type": "code",
   "execution_count": null,
   "metadata": {},
   "outputs": [],
   "source": [
    "df_agg = (df\n",
    "          .groupby([\"month_id\", \"growth_type\"])\n",
    "          .count()\n",
    "          .reset_index()\n",
    "          .rename(columns={\"seller_id\":\"active_seller\"}))"
   ]
  },
  {
   "cell_type": "code",
   "execution_count": null,
   "metadata": {},
   "outputs": [],
   "source": [
    "df_agg"
   ]
  },
  {
   "cell_type": "code",
   "execution_count": null,
   "metadata": {},
   "outputs": [],
   "source": [
    "fig, ax = plt.subplots(figsize=(16,9))\n",
    "\n",
    "sns.lineplot(data=df_agg,\n",
    "             x=\"month_id\",\n",
    "             y=\"active_seller\",\n",
    "             hue=\"growth_type\",\n",
    "             ax=ax);\n"
   ]
  },
  {
   "cell_type": "code",
   "execution_count": null,
   "metadata": {},
   "outputs": [],
   "source": []
  }
 ],
 "metadata": {
  "kernelspec": {
   "display_name": "Python 3",
   "language": "python",
   "name": "python3"
  },
  "language_info": {
   "codemirror_mode": {
    "name": "ipython",
    "version": 3
   },
   "file_extension": ".py",
   "mimetype": "text/x-python",
   "name": "python",
   "nbconvert_exporter": "python",
   "pygments_lexer": "ipython3",
   "version": "3.7.5"
  }
 },
 "nbformat": 4,
 "nbformat_minor": 2
}
