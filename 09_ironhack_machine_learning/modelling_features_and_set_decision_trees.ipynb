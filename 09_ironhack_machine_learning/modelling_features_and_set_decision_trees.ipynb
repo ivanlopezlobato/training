{
 "cells": [
  {
   "cell_type": "code",
   "execution_count": 1,
   "metadata": {},
   "outputs": [],
   "source": [
    "import pandas as pd\n",
    "import numpy as np\n",
    "import matplotlib.pyplot as plt\n",
    "from sklearn.preprocessing import StandardScaler\n",
    "from sklearn.model_selection import train_test_split\n",
    "from sklearn.linear_model import LogisticRegression\n",
    "from sklearn.metrics import accuracy_score\n",
    "\n",
    "%matplotlib inline"
   ]
  },
  {
   "cell_type": "code",
   "execution_count": 2,
   "metadata": {},
   "outputs": [],
   "source": [
    "# read csv\n",
    "df = pd.read_csv(\"data/WA_Fn-UseC_-Telco-Customer-Churn.csv\")"
   ]
  },
  {
   "cell_type": "markdown",
   "metadata": {},
   "source": [
    "## Data Cleaning"
   ]
  },
  {
   "cell_type": "code",
   "execution_count": 3,
   "metadata": {},
   "outputs": [],
   "source": [
    "# from the exercise churn prediction, \n",
    "# known of 11 cases of TotalCharges with value \" \" \n",
    "# which transform into 0\n",
    "df.loc[df[\"TotalCharges\"].eq(\" \"), \"TotalCharges\"] = 0\n",
    "\n",
    "# transform into type float\n",
    "df[\"TotalCharges\"] = df[\"TotalCharges\"].astype(float)"
   ]
  },
  {
   "cell_type": "code",
   "execution_count": 4,
   "metadata": {},
   "outputs": [],
   "source": [
    "categorical = [\"Contract\", \"InternetService\"]\n",
    "# list of all no categorical features with 3 different values\n",
    "to_bool = [col for col in df.nunique()[df.nunique().eq(3)].index if col not in categorical]"
   ]
  },
  {
   "cell_type": "code",
   "execution_count": 5,
   "metadata": {},
   "outputs": [],
   "source": [
    "# transform all no categorical boolean 1 & 0\n",
    "df[to_bool] = np.where(df[to_bool].eq(\"Yes\"),1,0)"
   ]
  },
  {
   "cell_type": "code",
   "execution_count": 6,
   "metadata": {},
   "outputs": [],
   "source": [
    "# create column \"female\" as boolean in replacement of gender\n",
    "df = (df\n",
    "      .assign(female=df[\"gender\"].eq(\"Female\").astype(int))\n",
    "      .drop(columns=\"gender\"))"
   ]
  },
  {
   "cell_type": "code",
   "execution_count": 7,
   "metadata": {},
   "outputs": [],
   "source": [
    "# other columns to boolean\n",
    "to_bool_too = [\"Partner\", \"Dependents\", \"PhoneService\", \"Churn\", \"PaperlessBilling\"]\n",
    "\n",
    "df[to_bool_too] = np.where(df[to_bool_too].eq(\"Yes\"),1,0)"
   ]
  },
  {
   "cell_type": "code",
   "execution_count": 8,
   "metadata": {},
   "outputs": [
    {
     "data": {
      "text/plain": [
       "customerID           object\n",
       "SeniorCitizen         int64\n",
       "Partner               int64\n",
       "Dependents            int64\n",
       "tenure                int64\n",
       "PhoneService          int64\n",
       "MultipleLines         int64\n",
       "InternetService      object\n",
       "OnlineSecurity        int64\n",
       "OnlineBackup          int64\n",
       "DeviceProtection      int64\n",
       "TechSupport           int64\n",
       "StreamingTV           int64\n",
       "StreamingMovies       int64\n",
       "Contract             object\n",
       "PaperlessBilling      int64\n",
       "PaymentMethod        object\n",
       "MonthlyCharges      float64\n",
       "TotalCharges        float64\n",
       "Churn                 int64\n",
       "female                int64\n",
       "dtype: object"
      ]
     },
     "execution_count": 8,
     "metadata": {},
     "output_type": "execute_result"
    }
   ],
   "source": [
    "df.dtypes"
   ]
  },
  {
   "cell_type": "code",
   "execution_count": 9,
   "metadata": {},
   "outputs": [
    {
     "data": {
      "text/html": [
       "<div>\n",
       "<style scoped>\n",
       "    .dataframe tbody tr th:only-of-type {\n",
       "        vertical-align: middle;\n",
       "    }\n",
       "\n",
       "    .dataframe tbody tr th {\n",
       "        vertical-align: top;\n",
       "    }\n",
       "\n",
       "    .dataframe thead th {\n",
       "        text-align: right;\n",
       "    }\n",
       "</style>\n",
       "<table border=\"1\" class=\"dataframe\">\n",
       "  <thead>\n",
       "    <tr style=\"text-align: right;\">\n",
       "      <th></th>\n",
       "      <th>customerID</th>\n",
       "      <th>SeniorCitizen</th>\n",
       "      <th>Partner</th>\n",
       "      <th>Dependents</th>\n",
       "      <th>tenure</th>\n",
       "      <th>PhoneService</th>\n",
       "      <th>MultipleLines</th>\n",
       "      <th>InternetService</th>\n",
       "      <th>OnlineSecurity</th>\n",
       "      <th>OnlineBackup</th>\n",
       "      <th>...</th>\n",
       "      <th>TechSupport</th>\n",
       "      <th>StreamingTV</th>\n",
       "      <th>StreamingMovies</th>\n",
       "      <th>Contract</th>\n",
       "      <th>PaperlessBilling</th>\n",
       "      <th>PaymentMethod</th>\n",
       "      <th>MonthlyCharges</th>\n",
       "      <th>TotalCharges</th>\n",
       "      <th>Churn</th>\n",
       "      <th>female</th>\n",
       "    </tr>\n",
       "  </thead>\n",
       "  <tbody>\n",
       "    <tr>\n",
       "      <th>0</th>\n",
       "      <td>7590-VHVEG</td>\n",
       "      <td>0</td>\n",
       "      <td>1</td>\n",
       "      <td>0</td>\n",
       "      <td>1</td>\n",
       "      <td>0</td>\n",
       "      <td>0</td>\n",
       "      <td>DSL</td>\n",
       "      <td>0</td>\n",
       "      <td>1</td>\n",
       "      <td>...</td>\n",
       "      <td>0</td>\n",
       "      <td>0</td>\n",
       "      <td>0</td>\n",
       "      <td>Month-to-month</td>\n",
       "      <td>1</td>\n",
       "      <td>Electronic check</td>\n",
       "      <td>29.85</td>\n",
       "      <td>29.85</td>\n",
       "      <td>0</td>\n",
       "      <td>1</td>\n",
       "    </tr>\n",
       "    <tr>\n",
       "      <th>1</th>\n",
       "      <td>5575-GNVDE</td>\n",
       "      <td>0</td>\n",
       "      <td>0</td>\n",
       "      <td>0</td>\n",
       "      <td>34</td>\n",
       "      <td>1</td>\n",
       "      <td>0</td>\n",
       "      <td>DSL</td>\n",
       "      <td>1</td>\n",
       "      <td>0</td>\n",
       "      <td>...</td>\n",
       "      <td>0</td>\n",
       "      <td>0</td>\n",
       "      <td>0</td>\n",
       "      <td>One year</td>\n",
       "      <td>0</td>\n",
       "      <td>Mailed check</td>\n",
       "      <td>56.95</td>\n",
       "      <td>1889.50</td>\n",
       "      <td>0</td>\n",
       "      <td>0</td>\n",
       "    </tr>\n",
       "    <tr>\n",
       "      <th>2</th>\n",
       "      <td>3668-QPYBK</td>\n",
       "      <td>0</td>\n",
       "      <td>0</td>\n",
       "      <td>0</td>\n",
       "      <td>2</td>\n",
       "      <td>1</td>\n",
       "      <td>0</td>\n",
       "      <td>DSL</td>\n",
       "      <td>1</td>\n",
       "      <td>1</td>\n",
       "      <td>...</td>\n",
       "      <td>0</td>\n",
       "      <td>0</td>\n",
       "      <td>0</td>\n",
       "      <td>Month-to-month</td>\n",
       "      <td>1</td>\n",
       "      <td>Mailed check</td>\n",
       "      <td>53.85</td>\n",
       "      <td>108.15</td>\n",
       "      <td>1</td>\n",
       "      <td>0</td>\n",
       "    </tr>\n",
       "    <tr>\n",
       "      <th>3</th>\n",
       "      <td>7795-CFOCW</td>\n",
       "      <td>0</td>\n",
       "      <td>0</td>\n",
       "      <td>0</td>\n",
       "      <td>45</td>\n",
       "      <td>0</td>\n",
       "      <td>0</td>\n",
       "      <td>DSL</td>\n",
       "      <td>1</td>\n",
       "      <td>0</td>\n",
       "      <td>...</td>\n",
       "      <td>1</td>\n",
       "      <td>0</td>\n",
       "      <td>0</td>\n",
       "      <td>One year</td>\n",
       "      <td>0</td>\n",
       "      <td>Bank transfer (automatic)</td>\n",
       "      <td>42.30</td>\n",
       "      <td>1840.75</td>\n",
       "      <td>0</td>\n",
       "      <td>0</td>\n",
       "    </tr>\n",
       "    <tr>\n",
       "      <th>4</th>\n",
       "      <td>9237-HQITU</td>\n",
       "      <td>0</td>\n",
       "      <td>0</td>\n",
       "      <td>0</td>\n",
       "      <td>2</td>\n",
       "      <td>1</td>\n",
       "      <td>0</td>\n",
       "      <td>Fiber optic</td>\n",
       "      <td>0</td>\n",
       "      <td>0</td>\n",
       "      <td>...</td>\n",
       "      <td>0</td>\n",
       "      <td>0</td>\n",
       "      <td>0</td>\n",
       "      <td>Month-to-month</td>\n",
       "      <td>1</td>\n",
       "      <td>Electronic check</td>\n",
       "      <td>70.70</td>\n",
       "      <td>151.65</td>\n",
       "      <td>1</td>\n",
       "      <td>1</td>\n",
       "    </tr>\n",
       "  </tbody>\n",
       "</table>\n",
       "<p>5 rows × 21 columns</p>\n",
       "</div>"
      ],
      "text/plain": [
       "   customerID  SeniorCitizen  Partner  Dependents  tenure  PhoneService  \\\n",
       "0  7590-VHVEG              0        1           0       1             0   \n",
       "1  5575-GNVDE              0        0           0      34             1   \n",
       "2  3668-QPYBK              0        0           0       2             1   \n",
       "3  7795-CFOCW              0        0           0      45             0   \n",
       "4  9237-HQITU              0        0           0       2             1   \n",
       "\n",
       "   MultipleLines InternetService  OnlineSecurity  OnlineBackup  ...  \\\n",
       "0              0             DSL               0             1  ...   \n",
       "1              0             DSL               1             0  ...   \n",
       "2              0             DSL               1             1  ...   \n",
       "3              0             DSL               1             0  ...   \n",
       "4              0     Fiber optic               0             0  ...   \n",
       "\n",
       "   TechSupport  StreamingTV  StreamingMovies        Contract PaperlessBilling  \\\n",
       "0            0            0                0  Month-to-month                1   \n",
       "1            0            0                0        One year                0   \n",
       "2            0            0                0  Month-to-month                1   \n",
       "3            1            0                0        One year                0   \n",
       "4            0            0                0  Month-to-month                1   \n",
       "\n",
       "               PaymentMethod MonthlyCharges  TotalCharges  Churn  female  \n",
       "0           Electronic check          29.85         29.85      0       1  \n",
       "1               Mailed check          56.95       1889.50      0       0  \n",
       "2               Mailed check          53.85        108.15      1       0  \n",
       "3  Bank transfer (automatic)          42.30       1840.75      0       0  \n",
       "4           Electronic check          70.70        151.65      1       1  \n",
       "\n",
       "[5 rows x 21 columns]"
      ]
     },
     "execution_count": 9,
     "metadata": {},
     "output_type": "execute_result"
    }
   ],
   "source": [
    "df.head()"
   ]
  },
  {
   "cell_type": "markdown",
   "metadata": {},
   "source": [
    "## Create function that we can use to test feature sets\n",
    "- features sets\n",
    "- escalling methods for numerical features\n",
    "- ML algorithms"
   ]
  },
  {
   "cell_type": "code",
   "execution_count": 10,
   "metadata": {},
   "outputs": [],
   "source": [
    "target_col = [\"Churn\"]\n",
    "num_cols = [\"tenure\", \"MonthlyCharges\", \"TotalCharges\"]"
   ]
  },
  {
   "cell_type": "code",
   "execution_count": 11,
   "metadata": {},
   "outputs": [],
   "source": [
    "def evaluate_model(df, target_col, num_cols, cat_cols, bool_cols, algo, test_size=.1, scaler=None, seed=3):\n",
    "    \"\"\"\n",
    "    This function returns the accuracy score of a given model for churn prediction\n",
    "    given the data set\n",
    "    \n",
    "    \n",
    "    \"\"\"\n",
    "    # create a copy of num_cols to work\n",
    "    num_cols_copy = num_cols.copy()\n",
    "    \n",
    "    # split dataset\n",
    "    train, test = train_test_split(df, test_size=test_size, random_state=seed)\n",
    "    train = train.reset_index()\n",
    "    test = test.reset_index()\n",
    "    \n",
    "    # apply rescaling if requested\n",
    "    if scaler:\n",
    "        # train scaler\n",
    "        scaler_fitted = scaler.fit(train[num_cols_copy])\n",
    "        \n",
    "        # rescale train\n",
    "        train_scaled_num_cols = pd.DataFrame(scaler_fitted.transform(train[num_cols_copy]),columns=[\"scaled_\"+col for col in num_cols_copy])\n",
    "        train = train.merge(train_scaled_num_cols, left_index=True, right_index=True, how=\"inner\")\n",
    "        \n",
    "        # rescale test\n",
    "        test_scaled_num_cols = pd.DataFrame(scaler_fitted.transform(test[num_cols_copy]), columns=[\"scaled_\"+col for col in num_cols_copy])\n",
    "        test = test.merge(test_scaled_num_cols, left_index=True, right_index=True, how=\"inner\")\n",
    "        \n",
    "        # overwrite num_cols\n",
    "        num_cols_copy = [\"scaled_\"+col for col in num_cols_copy]\n",
    "    \n",
    "    # create dummies\n",
    "    train = pd.get_dummies(data=train, columns=cat_cols, drop_first=True)\n",
    "    test = pd.get_dummies(data=test, columns=cat_cols, drop_first=True)\n",
    "    \n",
    "    dummy_cols = [col for categ in cat_cols for col in train.columns if col.startswith(categ)]\n",
    "    \n",
    "    # create input sets\n",
    "    train_X = train[bool_cols + dummy_cols + num_cols_copy]\n",
    "    train_y = train[target_col]\n",
    "    test_X = test[bool_cols + dummy_cols + num_cols_copy]\n",
    "    test_y = test[target_col]\n",
    "    \n",
    "    # train model\n",
    "    model = algo\n",
    "    model.fit(train_X, train_y.values.ravel())\n",
    "    \n",
    "    # predict\n",
    "    predictions = model.predict(test_X)\n",
    "    \n",
    "    return accuracy_score(test_y, predictions)\n",
    "    \n",
    "    "
   ]
  },
  {
   "cell_type": "code",
   "execution_count": 12,
   "metadata": {},
   "outputs": [],
   "source": [
    "target_col = [\"Churn\"]\n",
    "num_cols = [\"tenure\", \"MonthlyCharges\", \"TotalCharges\"]\n",
    "bool_cols = [col for col in df.nunique()[df.nunique().eq(2)].index if col not in target_col]\n",
    "cat_cols = [\"InternetService\", \"Contract\", \"PaymentMethod\"]"
   ]
  },
  {
   "cell_type": "code",
   "execution_count": 13,
   "metadata": {},
   "outputs": [
    {
     "data": {
      "text/plain": [
       "0.8141843971631205"
      ]
     },
     "execution_count": 13,
     "metadata": {},
     "output_type": "execute_result"
    }
   ],
   "source": [
    "evaluate_model(df=df,\n",
    "               target_col=target_col,\n",
    "               num_cols=num_cols,\n",
    "               cat_cols=cat_cols,\n",
    "               bool_cols=bool_cols,\n",
    "               algo=LogisticRegression(solver=\"liblinear\"),\n",
    "               scaler=StandardScaler())"
   ]
  },
  {
   "cell_type": "markdown",
   "metadata": {},
   "source": [
    "accuracy score of 81% based on the LogisticRegression as done in the Churn predict exercise\n",
    "\n",
    "#### it is possible to apply dict unpacking for the function"
   ]
  },
  {
   "cell_type": "code",
   "execution_count": 14,
   "metadata": {},
   "outputs": [],
   "source": [
    "cols = {\"target_col\":target_col,\n",
    "        \"num_cols\":num_cols,\n",
    "        \"cat_cols\":cat_cols,\n",
    "        \"bool_cols\":bool_cols}"
   ]
  },
  {
   "cell_type": "code",
   "execution_count": 15,
   "metadata": {},
   "outputs": [
    {
     "data": {
      "text/plain": [
       "0.8141843971631205"
      ]
     },
     "execution_count": 15,
     "metadata": {},
     "output_type": "execute_result"
    }
   ],
   "source": [
    "evaluate_model(df=df,\n",
    "               **cols,\n",
    "               algo=LogisticRegression(solver=\"liblinear\"),\n",
    "               scaler=StandardScaler())"
   ]
  },
  {
   "cell_type": "code",
   "execution_count": 16,
   "metadata": {},
   "outputs": [
    {
     "data": {
      "text/plain": [
       "0.8042553191489362"
      ]
     },
     "execution_count": 16,
     "metadata": {},
     "output_type": "execute_result"
    }
   ],
   "source": [
    "### Compare with previous model with other variables\n",
    "\n",
    "df_p = df.copy()\n",
    "\n",
    "services = [\"PhoneService\",\n",
    "            \"OnlineSecurity\",\n",
    "            \"OnlineBackup\",\n",
    "            \"DeviceProtection\",\n",
    "            \"TechSupport\",\n",
    "            \"StreamingTV\",\n",
    "            \"StreamingMovies\"]\n",
    "\n",
    "df_p = (df_p\n",
    "        .assign(no_of_services=df_p[services].sum(axis=1))\n",
    "        .assign(AutomaticPayment=np.where(df_p[\"PaymentMethod\"].str.contains(\"automatic\"),1,0)))\n",
    "\n",
    "# variables = [\"no_of_services\",\n",
    "#              \"AutomaticPyament\",\n",
    "#              \"MonthlyCharges\",\n",
    "#              \"SeniorCitizen\",\n",
    "#              \"OnlineBackup\",\n",
    "#              \"Contract_One year\",\n",
    "#              \"Contract_Two year\"]\n",
    "\n",
    "\n",
    "cols_p = {\"target_col\": target_col,\n",
    "          \"num_cols\": [\"no_of_services\", \"tenure\", \"MonthlyCharges\"],\n",
    "          \"cat_cols\": [\"Contract\"],\n",
    "          \"bool_cols\": [\"AutomaticPayment\", \"SeniorCitizen\", \"OnlineBackup\"]}\n",
    "\n",
    "evaluate_model(df= df_p,\n",
    "               **cols_p,\n",
    "               algo=LogisticRegression(solver=\"liblinear\"),\n",
    "               scaler=StandardScaler())"
   ]
  },
  {
   "cell_type": "markdown",
   "metadata": {},
   "source": [
    "#### Use MinMaxScaler()"
   ]
  },
  {
   "cell_type": "code",
   "execution_count": 17,
   "metadata": {},
   "outputs": [
    {
     "data": {
      "text/plain": [
       "0.8156028368794326"
      ]
     },
     "execution_count": 17,
     "metadata": {},
     "output_type": "execute_result"
    }
   ],
   "source": [
    "from sklearn.preprocessing import MinMaxScaler\n",
    "\n",
    "evaluate_model(df=df,\n",
    "               **cols,\n",
    "               algo=LogisticRegression(solver=\"liblinear\"),\n",
    "               scaler=MinMaxScaler())\n",
    "# it improves the outcome for the given train/test 0,15 porcentual points"
   ]
  },
  {
   "cell_type": "markdown",
   "metadata": {},
   "source": [
    "#### try DecisionTree"
   ]
  },
  {
   "cell_type": "code",
   "execution_count": 18,
   "metadata": {},
   "outputs": [
    {
     "data": {
      "text/plain": [
       "0.7432624113475177"
      ]
     },
     "execution_count": 18,
     "metadata": {},
     "output_type": "execute_result"
    }
   ],
   "source": [
    "from sklearn.tree import DecisionTreeClassifier\n",
    "\n",
    "evaluate_model(df=df,\n",
    "               **cols,\n",
    "               algo=DecisionTreeClassifier(random_state=500),\n",
    "               )"
   ]
  },
  {
   "cell_type": "code",
   "execution_count": 19,
   "metadata": {},
   "outputs": [
    {
     "data": {
      "text/plain": [
       "0.8184397163120567"
      ]
     },
     "execution_count": 19,
     "metadata": {},
     "output_type": "execute_result"
    }
   ],
   "source": [
    "from sklearn.ensemble import RandomForestClassifier\n",
    "\n",
    "evaluate_model(df=df,\n",
    "               **cols,\n",
    "               algo=RandomForestClassifier(random_state=500))"
   ]
  },
  {
   "cell_type": "code",
   "execution_count": null,
   "metadata": {},
   "outputs": [],
   "source": []
  }
 ],
 "metadata": {
  "kernelspec": {
   "display_name": "Python 3",
   "language": "python",
   "name": "python3"
  },
  "language_info": {
   "codemirror_mode": {
    "name": "ipython",
    "version": 3
   },
   "file_extension": ".py",
   "mimetype": "text/x-python",
   "name": "python",
   "nbconvert_exporter": "python",
   "pygments_lexer": "ipython3",
   "version": "3.7.5"
  }
 },
 "nbformat": 4,
 "nbformat_minor": 2
}
