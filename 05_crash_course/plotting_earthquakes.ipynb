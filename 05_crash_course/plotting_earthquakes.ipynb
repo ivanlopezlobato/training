{
 "cells": [
  {
   "cell_type": "markdown",
   "metadata": {},
   "source": [
    "Based on the a json file downloaded from \n",
    "https://earthquake.usgs.gov/earthquakes/feed/v1.0/geojson.php\n",
    "\n",
    "Plot location of earthquackes in April 1st 2020\n",
    "\n",
    "### Crash Course Text"
   ]
  },
  {
   "cell_type": "code",
   "execution_count": 1,
   "metadata": {},
   "outputs": [],
   "source": [
    "import json"
   ]
  },
  {
   "cell_type": "code",
   "execution_count": 2,
   "metadata": {},
   "outputs": [],
   "source": [
    "# open json file\n",
    "filename = \"eq_1_day_m1.json\"\n",
    "\n",
    "with open(filename) as f:\n",
    "    all_eq_data = json.load(f)\n",
    "\n",
    "readable_file = \"eq_1_day_m1.json\"\n",
    "\n",
    "with open(readable_file, \"w\") as f:\n",
    "    json.dump(all_eq_data, f, indent=4)"
   ]
  },
  {
   "cell_type": "code",
   "execution_count": 3,
   "metadata": {},
   "outputs": [
    {
     "name": "stdout",
     "output_type": "stream",
     "text": [
      "228\n"
     ]
    }
   ],
   "source": [
    "# subset features in a list of dicts\n",
    "all_eq_dicts = all_eq_data[\"features\"]\n",
    "\n",
    "# count how many earthquakes happened on Apr 1st 2020 in the world\n",
    "print(len(all_eq_dicts))"
   ]
  },
  {
   "cell_type": "code",
   "execution_count": 4,
   "metadata": {},
   "outputs": [
    {
     "data": {
      "text/plain": [
       "[1.7, 2.55, 1.1, 3.1, 2.78, 5.2, 4.7, 1.47, 1, 2.99]"
      ]
     },
     "execution_count": 4,
     "metadata": {},
     "output_type": "execute_result"
    }
   ],
   "source": [
    "# extract the mag\n",
    "mags =  []\n",
    "for eq_dict in all_eq_dicts:\n",
    "    mag = eq_dict[\"properties\"][\"mag\"]\n",
    "    mags.append(mag)\n",
    "    \n",
    "mags[:10]"
   ]
  },
  {
   "cell_type": "code",
   "execution_count": 5,
   "metadata": {},
   "outputs": [
    {
     "data": {
      "text/plain": [
       "[1.7, 2.55, 1.1, 3.1, 2.78, 5.2, 4.7, 1.47, 1, 2.99]"
      ]
     },
     "execution_count": 5,
     "metadata": {},
     "output_type": "execute_result"
    }
   ],
   "source": [
    "# alternative: list comprehension\n",
    "# list comprehension\n",
    "\n",
    "\n",
    "mags_ls= [eq_dict[\"properties\"][\"mag\"] for eq_dict in all_eq_dicts]\n",
    "\n",
    "mags_ls[:10]"
   ]
  },
  {
   "cell_type": "code",
   "execution_count": 6,
   "metadata": {},
   "outputs": [
    {
     "name": "stdout",
     "output_type": "stream",
     "text": [
      "[-117.5563333, -66.8188, -148.5198, -115.2441, -98.3073349] [35.7105, 17.9736, 64.7286, 44.4472, 34.54284286]\n"
     ]
    }
   ],
   "source": [
    "# apply to extract list of mags, lat and lon\n",
    "\n",
    "mags = [eq_dict[\"properties\"][\"mag\"] for eq_dict in all_eq_dicts]\n",
    "lons = [eq_dict[\"geometry\"][\"coordinates\"][0] for eq_dict in all_eq_dicts]\n",
    "lats = [eq_dict[\"geometry\"][\"coordinates\"][1] for eq_dict in all_eq_dicts]\n",
    "locs = [eq_dict[\"properties\"][\"title\"] for eq_dict in all_eq_dicts]\n",
    "\n",
    "print(lons[:5], lats[:5])"
   ]
  },
  {
   "cell_type": "code",
   "execution_count": 7,
   "metadata": {},
   "outputs": [],
   "source": [
    "# Build a worlmap\n",
    "import matplotlib.pyplot as plt\n",
    "from plotly.graph_objs import Scattergeo, Layout\n",
    "from plotly import offline"
   ]
  },
  {
   "cell_type": "code",
   "execution_count": 8,
   "metadata": {},
   "outputs": [
    {
     "data": {
      "text/plain": [
       "'global_earthquakes.html'"
      ]
     },
     "execution_count": 8,
     "metadata": {},
     "output_type": "execute_result"
    }
   ],
   "source": [
    "# plot map offline in a html\n",
    "data = [Scattergeo(lon=lons, lat=lats)]\n",
    "my_layout = Layout(title=\"Global Earthquakes\")\n",
    "\n",
    "fig ={\"data\":data, \"layout\":my_layout}\n",
    "offline.plot(fig, filename = \"global_earthquakes.html\")"
   ]
  },
  {
   "cell_type": "code",
   "execution_count": 9,
   "metadata": {},
   "outputs": [
    {
     "data": {
      "text/plain": [
       "'global_earthquakes.html'"
      ]
     },
     "execution_count": 9,
     "metadata": {},
     "output_type": "execute_result"
    }
   ],
   "source": [
    "# re-arrange the data, customise the value\n",
    "\n",
    "data = [{\n",
    "    \"type\": \"scattergeo\",\n",
    "    \"lon\": lons,\n",
    "    \"lat\": lats,\n",
    "    \"text\": locs,\n",
    "    \"marker\": {\n",
    "        \"size\":[5*mag for mag in mags],\n",
    "        \"color\": mags,\n",
    "        \"colorscale\": \"Viridis\",\n",
    "        \"reversescale\": True,\n",
    "        \"colorbar\": {\"title\": \"Magnitudes\"}\n",
    "    }\n",
    "}]\n",
    "\n",
    "\n",
    "fig ={\"data\":data, \"layout\":my_layout}\n",
    "offline.plot(fig, filename = \"global_earthquakes.html\")"
   ]
  },
  {
   "cell_type": "markdown",
   "metadata": {},
   "source": [
    "### set the json file into dataframe pandas"
   ]
  },
  {
   "cell_type": "code",
   "execution_count": 10,
   "metadata": {},
   "outputs": [],
   "source": [
    "import pandas as pd\n"
   ]
  },
  {
   "cell_type": "code",
   "execution_count": 11,
   "metadata": {},
   "outputs": [
    {
     "data": {
      "text/html": [
       "<div>\n",
       "<style scoped>\n",
       "    .dataframe tbody tr th:only-of-type {\n",
       "        vertical-align: middle;\n",
       "    }\n",
       "\n",
       "    .dataframe tbody tr th {\n",
       "        vertical-align: top;\n",
       "    }\n",
       "\n",
       "    .dataframe thead th {\n",
       "        text-align: right;\n",
       "    }\n",
       "</style>\n",
       "<table border=\"1\" class=\"dataframe\">\n",
       "  <thead>\n",
       "    <tr style=\"text-align: right;\">\n",
       "      <th></th>\n",
       "      <th>type</th>\n",
       "      <th>properties</th>\n",
       "      <th>geometry</th>\n",
       "      <th>id</th>\n",
       "    </tr>\n",
       "  </thead>\n",
       "  <tbody>\n",
       "    <tr>\n",
       "      <th>0</th>\n",
       "      <td>Feature</td>\n",
       "      <td>{'mag': 1.7, 'place': '15km NE of Ridgecrest, ...</td>\n",
       "      <td>{'type': 'Point', 'coordinates': [-117.5563333...</td>\n",
       "      <td>ci39124527</td>\n",
       "    </tr>\n",
       "    <tr>\n",
       "      <th>1</th>\n",
       "      <td>Feature</td>\n",
       "      <td>{'mag': 2.55, 'place': '2km S of Indios, Puert...</td>\n",
       "      <td>{'type': 'Point', 'coordinates': [-66.8188, 17...</td>\n",
       "      <td>pr2020093021</td>\n",
       "    </tr>\n",
       "    <tr>\n",
       "      <th>2</th>\n",
       "      <td>Feature</td>\n",
       "      <td>{'mag': 1.1, 'place': '27km WSW of Ester, Alas...</td>\n",
       "      <td>{'type': 'Point', 'coordinates': [-148.5198, 6...</td>\n",
       "      <td>ak02049zlglh</td>\n",
       "    </tr>\n",
       "    <tr>\n",
       "      <th>3</th>\n",
       "      <td>Feature</td>\n",
       "      <td>{'mag': 3.1, 'place': '63km E of Cascade, Idah...</td>\n",
       "      <td>{'type': 'Point', 'coordinates': [-115.2441, 4...</td>\n",
       "      <td>us70008lgl</td>\n",
       "    </tr>\n",
       "    <tr>\n",
       "      <th>4</th>\n",
       "      <td>Feature</td>\n",
       "      <td>{'mag': 2.78, 'place': '9km NE of Geronimo, Ok...</td>\n",
       "      <td>{'type': 'Point', 'coordinates': [-98.3073349,...</td>\n",
       "      <td>ok2020gmxa</td>\n",
       "    </tr>\n",
       "    <tr>\n",
       "      <th>...</th>\n",
       "      <td>...</td>\n",
       "      <td>...</td>\n",
       "      <td>...</td>\n",
       "      <td>...</td>\n",
       "    </tr>\n",
       "    <tr>\n",
       "      <th>223</th>\n",
       "      <td>Feature</td>\n",
       "      <td>{'mag': 5.3, 'place': '78km ENE of Qumong, Chi...</td>\n",
       "      <td>{'type': 'Point', 'coordinates': [98.9159, 33....</td>\n",
       "      <td>us70008kd8</td>\n",
       "    </tr>\n",
       "    <tr>\n",
       "      <th>224</th>\n",
       "      <td>Feature</td>\n",
       "      <td>{'mag': 3, 'place': '65km E of Cascade, Idaho'...</td>\n",
       "      <td>{'type': 'Point', 'coordinates': [-115.2325, 4...</td>\n",
       "      <td>us70008kcy</td>\n",
       "    </tr>\n",
       "    <tr>\n",
       "      <th>225</th>\n",
       "      <td>Feature</td>\n",
       "      <td>{'mag': 2.62, 'place': '2km E of Maria Antonia...</td>\n",
       "      <td>{'type': 'Point', 'coordinates': [-66.8651, 17...</td>\n",
       "      <td>pr2020092020</td>\n",
       "    </tr>\n",
       "    <tr>\n",
       "      <th>226</th>\n",
       "      <td>Feature</td>\n",
       "      <td>{'mag': 1.9, 'place': '83km WSW of Larsen Bay,...</td>\n",
       "      <td>{'type': 'Point', 'coordinates': [-155.1244, 5...</td>\n",
       "      <td>ak02048cndn5</td>\n",
       "    </tr>\n",
       "    <tr>\n",
       "      <th>227</th>\n",
       "      <td>Feature</td>\n",
       "      <td>{'mag': 2.9, 'place': '74km ESE of Cascade, Id...</td>\n",
       "      <td>{'type': 'Point', 'coordinates': [-115.1537, 4...</td>\n",
       "      <td>us70008kcl</td>\n",
       "    </tr>\n",
       "  </tbody>\n",
       "</table>\n",
       "<p>228 rows × 4 columns</p>\n",
       "</div>"
      ],
      "text/plain": [
       "        type                                         properties  \\\n",
       "0    Feature  {'mag': 1.7, 'place': '15km NE of Ridgecrest, ...   \n",
       "1    Feature  {'mag': 2.55, 'place': '2km S of Indios, Puert...   \n",
       "2    Feature  {'mag': 1.1, 'place': '27km WSW of Ester, Alas...   \n",
       "3    Feature  {'mag': 3.1, 'place': '63km E of Cascade, Idah...   \n",
       "4    Feature  {'mag': 2.78, 'place': '9km NE of Geronimo, Ok...   \n",
       "..       ...                                                ...   \n",
       "223  Feature  {'mag': 5.3, 'place': '78km ENE of Qumong, Chi...   \n",
       "224  Feature  {'mag': 3, 'place': '65km E of Cascade, Idaho'...   \n",
       "225  Feature  {'mag': 2.62, 'place': '2km E of Maria Antonia...   \n",
       "226  Feature  {'mag': 1.9, 'place': '83km WSW of Larsen Bay,...   \n",
       "227  Feature  {'mag': 2.9, 'place': '74km ESE of Cascade, Id...   \n",
       "\n",
       "                                              geometry            id  \n",
       "0    {'type': 'Point', 'coordinates': [-117.5563333...    ci39124527  \n",
       "1    {'type': 'Point', 'coordinates': [-66.8188, 17...  pr2020093021  \n",
       "2    {'type': 'Point', 'coordinates': [-148.5198, 6...  ak02049zlglh  \n",
       "3    {'type': 'Point', 'coordinates': [-115.2441, 4...    us70008lgl  \n",
       "4    {'type': 'Point', 'coordinates': [-98.3073349,...    ok2020gmxa  \n",
       "..                                                 ...           ...  \n",
       "223  {'type': 'Point', 'coordinates': [98.9159, 33....    us70008kd8  \n",
       "224  {'type': 'Point', 'coordinates': [-115.2325, 4...    us70008kcy  \n",
       "225  {'type': 'Point', 'coordinates': [-66.8651, 17...  pr2020092020  \n",
       "226  {'type': 'Point', 'coordinates': [-155.1244, 5...  ak02048cndn5  \n",
       "227  {'type': 'Point', 'coordinates': [-115.1537, 4...    us70008kcl  \n",
       "\n",
       "[228 rows x 4 columns]"
      ]
     },
     "execution_count": 11,
     "metadata": {},
     "output_type": "execute_result"
    }
   ],
   "source": [
    "pd.DataFrame(all_eq_dicts)"
   ]
  },
  {
   "cell_type": "code",
   "execution_count": 12,
   "metadata": {},
   "outputs": [
    {
     "data": {
      "text/plain": [
       "1.7"
      ]
     },
     "execution_count": 12,
     "metadata": {},
     "output_type": "execute_result"
    }
   ],
   "source": [
    "all_eq_dicts[0][\"properties\"][\"mag\"]"
   ]
  },
  {
   "cell_type": "code",
   "execution_count": 13,
   "metadata": {},
   "outputs": [
    {
     "data": {
      "text/html": [
       "<div>\n",
       "<style scoped>\n",
       "    .dataframe tbody tr th:only-of-type {\n",
       "        vertical-align: middle;\n",
       "    }\n",
       "\n",
       "    .dataframe tbody tr th {\n",
       "        vertical-align: top;\n",
       "    }\n",
       "\n",
       "    .dataframe thead th {\n",
       "        text-align: right;\n",
       "    }\n",
       "</style>\n",
       "<table border=\"1\" class=\"dataframe\">\n",
       "  <thead>\n",
       "    <tr style=\"text-align: right;\">\n",
       "      <th></th>\n",
       "      <th>Magnitude</th>\n",
       "      <th>Longitude</th>\n",
       "      <th>Latitude</th>\n",
       "      <th>Location</th>\n",
       "    </tr>\n",
       "  </thead>\n",
       "  <tbody>\n",
       "    <tr>\n",
       "      <th>0</th>\n",
       "      <td>1.70</td>\n",
       "      <td>-117.556333</td>\n",
       "      <td>35.710500</td>\n",
       "      <td>M 1.7 - 15km NE of Ridgecrest, CA</td>\n",
       "    </tr>\n",
       "    <tr>\n",
       "      <th>1</th>\n",
       "      <td>2.55</td>\n",
       "      <td>-66.818800</td>\n",
       "      <td>17.973600</td>\n",
       "      <td>M 2.6 - 2km S of Indios, Puerto Rico</td>\n",
       "    </tr>\n",
       "    <tr>\n",
       "      <th>2</th>\n",
       "      <td>1.10</td>\n",
       "      <td>-148.519800</td>\n",
       "      <td>64.728600</td>\n",
       "      <td>M 1.1 - 27km WSW of Ester, Alaska</td>\n",
       "    </tr>\n",
       "    <tr>\n",
       "      <th>3</th>\n",
       "      <td>3.10</td>\n",
       "      <td>-115.244100</td>\n",
       "      <td>44.447200</td>\n",
       "      <td>M 3.1 - 63km E of Cascade, Idaho</td>\n",
       "    </tr>\n",
       "    <tr>\n",
       "      <th>4</th>\n",
       "      <td>2.78</td>\n",
       "      <td>-98.307335</td>\n",
       "      <td>34.542843</td>\n",
       "      <td>M 2.8 - 9km NE of Geronimo, Oklahoma</td>\n",
       "    </tr>\n",
       "    <tr>\n",
       "      <th>...</th>\n",
       "      <td>...</td>\n",
       "      <td>...</td>\n",
       "      <td>...</td>\n",
       "      <td>...</td>\n",
       "    </tr>\n",
       "    <tr>\n",
       "      <th>223</th>\n",
       "      <td>5.30</td>\n",
       "      <td>98.915900</td>\n",
       "      <td>33.124400</td>\n",
       "      <td>M 5.3 - 78km ENE of Qumong, China</td>\n",
       "    </tr>\n",
       "    <tr>\n",
       "      <th>224</th>\n",
       "      <td>3.00</td>\n",
       "      <td>-115.232500</td>\n",
       "      <td>44.412800</td>\n",
       "      <td>M 3.0 - 65km E of Cascade, Idaho</td>\n",
       "    </tr>\n",
       "    <tr>\n",
       "      <th>225</th>\n",
       "      <td>2.62</td>\n",
       "      <td>-66.865100</td>\n",
       "      <td>17.982600</td>\n",
       "      <td>M 2.6 - 2km E of Maria Antonia, Puerto Rico</td>\n",
       "    </tr>\n",
       "    <tr>\n",
       "      <th>226</th>\n",
       "      <td>1.90</td>\n",
       "      <td>-155.124400</td>\n",
       "      <td>57.119600</td>\n",
       "      <td>M 1.9 - 83km WSW of Larsen Bay, Alaska</td>\n",
       "    </tr>\n",
       "    <tr>\n",
       "      <th>227</th>\n",
       "      <td>2.90</td>\n",
       "      <td>-115.153700</td>\n",
       "      <td>44.296000</td>\n",
       "      <td>M 2.9 - 74km ESE of Cascade, Idaho</td>\n",
       "    </tr>\n",
       "  </tbody>\n",
       "</table>\n",
       "<p>228 rows × 4 columns</p>\n",
       "</div>"
      ],
      "text/plain": [
       "     Magnitude   Longitude   Latitude  \\\n",
       "0         1.70 -117.556333  35.710500   \n",
       "1         2.55  -66.818800  17.973600   \n",
       "2         1.10 -148.519800  64.728600   \n",
       "3         3.10 -115.244100  44.447200   \n",
       "4         2.78  -98.307335  34.542843   \n",
       "..         ...         ...        ...   \n",
       "223       5.30   98.915900  33.124400   \n",
       "224       3.00 -115.232500  44.412800   \n",
       "225       2.62  -66.865100  17.982600   \n",
       "226       1.90 -155.124400  57.119600   \n",
       "227       2.90 -115.153700  44.296000   \n",
       "\n",
       "                                        Location  \n",
       "0              M 1.7 - 15km NE of Ridgecrest, CA  \n",
       "1           M 2.6 - 2km S of Indios, Puerto Rico  \n",
       "2              M 1.1 - 27km WSW of Ester, Alaska  \n",
       "3               M 3.1 - 63km E of Cascade, Idaho  \n",
       "4           M 2.8 - 9km NE of Geronimo, Oklahoma  \n",
       "..                                           ...  \n",
       "223            M 5.3 - 78km ENE of Qumong, China  \n",
       "224             M 3.0 - 65km E of Cascade, Idaho  \n",
       "225  M 2.6 - 2km E of Maria Antonia, Puerto Rico  \n",
       "226       M 1.9 - 83km WSW of Larsen Bay, Alaska  \n",
       "227           M 2.9 - 74km ESE of Cascade, Idaho  \n",
       "\n",
       "[228 rows x 4 columns]"
      ]
     },
     "execution_count": 13,
     "metadata": {},
     "output_type": "execute_result"
    }
   ],
   "source": [
    "all_eq = pd.DataFrame(\n",
    "    {'Magnitude': [eq_dict[\"properties\"][\"mag\"] for eq_dict in all_eq_dicts],\n",
    "     'Longitude': [eq_dict[\"geometry\"][\"coordinates\"][0] for eq_dict in all_eq_dicts],\n",
    "     'Latitude': [eq_dict[\"geometry\"][\"coordinates\"][1] for eq_dict in all_eq_dicts],\n",
    "     \"Location\": [eq_dict[\"properties\"][\"title\"] for eq_dict in all_eq_dicts]\n",
    "    })\n",
    "\n",
    "all_eq"
   ]
  }
 ],
 "metadata": {
  "kernelspec": {
   "display_name": "Python 3",
   "language": "python",
   "name": "python3"
  },
  "language_info": {
   "codemirror_mode": {
    "name": "ipython",
    "version": 3
   },
   "file_extension": ".py",
   "mimetype": "text/x-python",
   "name": "python",
   "nbconvert_exporter": "python",
   "pygments_lexer": "ipython3",
   "version": "3.7.5"
  }
 },
 "nbformat": 4,
 "nbformat_minor": 2
}
