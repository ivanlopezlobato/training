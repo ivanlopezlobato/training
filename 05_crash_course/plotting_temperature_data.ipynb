{
 "cells": [
  {
   "cell_type": "markdown",
   "metadata": {},
   "source": [
    "## Plotting data temperature in a chart\n",
    "\n",
    "https://gis.ncdc.noaa.gov/maps/ncei/summaries/daily\n"
   ]
  },
  {
   "cell_type": "code",
   "execution_count": 1,
   "metadata": {},
   "outputs": [],
   "source": [
    "import pandas as pd\n",
    "import numpy as np\n",
    "import matplotlib.pyplot as plt"
   ]
  },
  {
   "cell_type": "code",
   "execution_count": 2,
   "metadata": {},
   "outputs": [],
   "source": [
    "madrid = pd.read_csv(\"madrid_weather_20200401T072911.csv\")"
   ]
  },
  {
   "cell_type": "code",
   "execution_count": 3,
   "metadata": {},
   "outputs": [
    {
     "data": {
      "text/html": [
       "<div>\n",
       "<style scoped>\n",
       "    .dataframe tbody tr th:only-of-type {\n",
       "        vertical-align: middle;\n",
       "    }\n",
       "\n",
       "    .dataframe tbody tr th {\n",
       "        vertical-align: top;\n",
       "    }\n",
       "\n",
       "    .dataframe thead th {\n",
       "        text-align: right;\n",
       "    }\n",
       "</style>\n",
       "<table border=\"1\" class=\"dataframe\">\n",
       "  <thead>\n",
       "    <tr style=\"text-align: right;\">\n",
       "      <th></th>\n",
       "      <th>timestamp</th>\n",
       "      <th>temperature_celsius</th>\n",
       "      <th>precipitation_mm</th>\n",
       "      <th>wind_speed_km_h</th>\n",
       "    </tr>\n",
       "  </thead>\n",
       "  <tbody>\n",
       "    <tr>\n",
       "      <th>0</th>\n",
       "      <td>20200318T0000</td>\n",
       "      <td>11.643209</td>\n",
       "      <td>0.0</td>\n",
       "      <td>14.338656</td>\n",
       "    </tr>\n",
       "    <tr>\n",
       "      <th>1</th>\n",
       "      <td>20200318T0100</td>\n",
       "      <td>11.103209</td>\n",
       "      <td>0.0</td>\n",
       "      <td>13.583788</td>\n",
       "    </tr>\n",
       "    <tr>\n",
       "      <th>2</th>\n",
       "      <td>20200318T0200</td>\n",
       "      <td>10.833208</td>\n",
       "      <td>0.0</td>\n",
       "      <td>13.191508</td>\n",
       "    </tr>\n",
       "    <tr>\n",
       "      <th>3</th>\n",
       "      <td>20200318T0300</td>\n",
       "      <td>10.313209</td>\n",
       "      <td>0.0</td>\n",
       "      <td>13.207638</td>\n",
       "    </tr>\n",
       "    <tr>\n",
       "      <th>4</th>\n",
       "      <td>20200318T0400</td>\n",
       "      <td>9.713208</td>\n",
       "      <td>0.0</td>\n",
       "      <td>12.859147</td>\n",
       "    </tr>\n",
       "    <tr>\n",
       "      <th>...</th>\n",
       "      <td>...</td>\n",
       "      <td>...</td>\n",
       "      <td>...</td>\n",
       "      <td>...</td>\n",
       "    </tr>\n",
       "    <tr>\n",
       "      <th>355</th>\n",
       "      <td>20200401T1900</td>\n",
       "      <td>12.813209</td>\n",
       "      <td>0.0</td>\n",
       "      <td>5.172553</td>\n",
       "    </tr>\n",
       "    <tr>\n",
       "      <th>356</th>\n",
       "      <td>20200401T2000</td>\n",
       "      <td>12.263208</td>\n",
       "      <td>0.0</td>\n",
       "      <td>5.644915</td>\n",
       "    </tr>\n",
       "    <tr>\n",
       "      <th>357</th>\n",
       "      <td>20200401T2100</td>\n",
       "      <td>11.643209</td>\n",
       "      <td>0.0</td>\n",
       "      <td>6.074854</td>\n",
       "    </tr>\n",
       "    <tr>\n",
       "      <th>358</th>\n",
       "      <td>20200401T2200</td>\n",
       "      <td>10.603209</td>\n",
       "      <td>0.0</td>\n",
       "      <td>6.665326</td>\n",
       "    </tr>\n",
       "    <tr>\n",
       "      <th>359</th>\n",
       "      <td>20200401T2300</td>\n",
       "      <td>9.493208</td>\n",
       "      <td>0.0</td>\n",
       "      <td>8.009740</td>\n",
       "    </tr>\n",
       "  </tbody>\n",
       "</table>\n",
       "<p>360 rows × 4 columns</p>\n",
       "</div>"
      ],
      "text/plain": [
       "         timestamp  temperature_celsius  precipitation_mm  wind_speed_km_h\n",
       "0    20200318T0000            11.643209               0.0        14.338656\n",
       "1    20200318T0100            11.103209               0.0        13.583788\n",
       "2    20200318T0200            10.833208               0.0        13.191508\n",
       "3    20200318T0300            10.313209               0.0        13.207638\n",
       "4    20200318T0400             9.713208               0.0        12.859147\n",
       "..             ...                  ...               ...              ...\n",
       "355  20200401T1900            12.813209               0.0         5.172553\n",
       "356  20200401T2000            12.263208               0.0         5.644915\n",
       "357  20200401T2100            11.643209               0.0         6.074854\n",
       "358  20200401T2200            10.603209               0.0         6.665326\n",
       "359  20200401T2300             9.493208               0.0         8.009740\n",
       "\n",
       "[360 rows x 4 columns]"
      ]
     },
     "execution_count": 3,
     "metadata": {},
     "output_type": "execute_result"
    }
   ],
   "source": [
    "madrid.head(365)"
   ]
  },
  {
   "cell_type": "markdown",
   "metadata": {},
   "source": [
    "- Calcalute temp max, min & avg per each day\n",
    "- plot as line graph\n",
    "- plot precipation as bar graph"
   ]
  },
  {
   "cell_type": "code",
   "execution_count": null,
   "metadata": {},
   "outputs": [],
   "source": []
  }
 ],
 "metadata": {
  "kernelspec": {
   "display_name": "Python 3",
   "language": "python",
   "name": "python3"
  },
  "language_info": {
   "codemirror_mode": {
    "name": "ipython",
    "version": 3
   },
   "file_extension": ".py",
   "mimetype": "text/x-python",
   "name": "python",
   "nbconvert_exporter": "python",
   "pygments_lexer": "ipython3",
   "version": "3.7.5"
  }
 },
 "nbformat": 4,
 "nbformat_minor": 2
}
