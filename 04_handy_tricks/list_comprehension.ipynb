{
 "cells": [
  {
   "cell_type": "markdown",
   "metadata": {},
   "source": [
    "## List comprehension\n",
    "\n",
    "it is a frequent use case to make a loop for appending the resulting values in a list\n",
    "\n",
    "for that case the list comprehension allows to simplify the code (in a single line!) and still readable"
   ]
  },
  {
   "cell_type": "code",
   "execution_count": 1,
   "metadata": {},
   "outputs": [],
   "source": [
    "sample = list(range(10))\n",
    "sample"
   ]
  },
  {
   "cell_type": "code",
   "execution_count": 2,
   "metadata": {},
   "outputs": [],
   "source": [
    "sample_square = []\n",
    "for i in sample:\n",
    "    sample_square.append(i**2)\n",
    "\n",
    "sample_square"
   ]
  },
  {
   "cell_type": "code",
   "execution_count": 3,
   "metadata": {},
   "outputs": [
    {
     "data": {
      "text/plain": [
       "[0, 1, 4, 9, 16, 25, 36, 49, 64, 81]"
      ]
     },
     "execution_count": 3,
     "metadata": {},
     "output_type": "execute_result"
    }
   ],
   "source": [
    "[i**2 for i in sample]"
   ]
  },
  {
   "cell_type": "markdown",
   "metadata": {},
   "source": [
    "- use brackets to set a list using list comprehension\n",
    "- it can be assigned to a variable"
   ]
  },
  {
   "cell_type": "code",
   "execution_count": 4,
   "metadata": {},
   "outputs": [
    {
     "data": {
      "text/plain": [
       "[0, 1, 8, 27, 64, 125, 216, 343, 512, 729]"
      ]
     },
     "execution_count": 4,
     "metadata": {},
     "output_type": "execute_result"
    }
   ],
   "source": [
    "sample_cubic = [i**3 for i in sample]\n",
    "\n",
    "sample_cubic"
   ]
  },
  {
   "cell_type": "markdown",
   "metadata": {},
   "source": [
    "list comprehension also can be combined with operator"
   ]
  },
  {
   "cell_type": "code",
   "execution_count": 5,
   "metadata": {},
   "outputs": [
    {
     "data": {
      "text/plain": [
       "[1, 27, 125, 343, 729]"
      ]
     },
     "execution_count": 5,
     "metadata": {},
     "output_type": "execute_result"
    }
   ],
   "source": [
    "sample_cubic_odd = []\n",
    "for element in sample:\n",
    "    new_element = element**3               # calculate cubic value of each element in the sample list\n",
    "    if (new_element % 2) != 0:             # check odd (if the remainder of the division /2 is different of 0)\n",
    "        sample_cubic_odd.append(element**3)# add element to the list\n",
    "                                           # note that \"new_element\" only added for reading clarity, but not necessary\n",
    "sample_cubic_odd"
   ]
  },
  {
   "cell_type": "code",
   "execution_count": 6,
   "metadata": {},
   "outputs": [
    {
     "data": {
      "text/plain": [
       "[1, 27, 125, 343, 729]"
      ]
     },
     "execution_count": 6,
     "metadata": {},
     "output_type": "execute_result"
    }
   ],
   "source": [
    "sco = [element**3 for element in sample if (element**3)%2 != 0]\n",
    "\n",
    "# we check, gives the same result\n",
    "sco"
   ]
  },
  {
   "cell_type": "markdown",
   "metadata": {},
   "source": [
    "combination if/else"
   ]
  },
  {
   "cell_type": "code",
   "execution_count": 7,
   "metadata": {},
   "outputs": [
    {
     "data": {
      "text/plain": [
       "[28, 17, 6, 99, 27, 31, 86, 77, 23, 51, 36, 7, 54, 49, 64, 26, 18, 97, 41, 24]"
      ]
     },
     "execution_count": 7,
     "metadata": {},
     "output_type": "execute_result"
    }
   ],
   "source": [
    "import random\n",
    "\n",
    "# create a list with random values between 0 and 99\n",
    "random_sample =random.sample(range(100),20)\n",
    "\n",
    "random_sample"
   ]
  },
  {
   "cell_type": "code",
   "execution_count": 8,
   "metadata": {},
   "outputs": [
    {
     "data": {
      "text/plain": [
       "[28, 18, 6, 100, 28, 32, 86, 78, 24, 52, 36, 8, 54, 50, 64, 26, 18, 98, 42, 24]"
      ]
     },
     "execution_count": 8,
     "metadata": {},
     "output_type": "execute_result"
    }
   ],
   "source": [
    "# iterate over the sample, every odd +1. Even numbers remain the same\n",
    "\n",
    "random_sample_corrected = []\n",
    "\n",
    "for i in random_sample:\n",
    "    if (i%2) == 0:\n",
    "        random_sample_corrected.append(i)\n",
    "    else:\n",
    "        random_sample_corrected.append(i+1)\n",
    "\n",
    "random_sample_corrected"
   ]
  },
  {
   "cell_type": "code",
   "execution_count": 9,
   "metadata": {},
   "outputs": [
    {
     "data": {
      "text/plain": [
       "[28, 18, 6, 100, 28, 32, 86, 78, 24, 52, 36, 8, 54, 50, 64, 26, 18, 98, 42, 24]"
      ]
     },
     "execution_count": 9,
     "metadata": {},
     "output_type": "execute_result"
    }
   ],
   "source": [
    "# first level of comprehension\n",
    "rsc = []\n",
    "for i in random_sample:\n",
    "    rsc.append(i if (i%2)==0 else i+1)\n",
    "    \n",
    "rsc"
   ]
  },
  {
   "cell_type": "code",
   "execution_count": 10,
   "metadata": {},
   "outputs": [
    {
     "data": {
      "text/plain": [
       "[28, 18, 6, 100, 28, 32, 86, 78, 24, 52, 36, 8, 54, 50, 64, 26, 18, 98, 42, 24]"
      ]
     },
     "execution_count": 10,
     "metadata": {},
     "output_type": "execute_result"
    }
   ],
   "source": [
    "# complete for in a single line\n",
    "[i if (i%2)==0 else i+1 for i in random_sample]"
   ]
  }
 ],
 "metadata": {
  "kernelspec": {
   "display_name": "Python 3",
   "language": "python",
   "name": "python3"
  },
  "language_info": {
   "codemirror_mode": {
    "name": "ipython",
    "version": 3
   },
   "file_extension": ".py",
   "mimetype": "text/x-python",
   "name": "python",
   "nbconvert_exporter": "python",
   "pygments_lexer": "ipython3",
   "version": "3.7.5"
  }
 },
 "nbformat": 4,
 "nbformat_minor": 2
}
