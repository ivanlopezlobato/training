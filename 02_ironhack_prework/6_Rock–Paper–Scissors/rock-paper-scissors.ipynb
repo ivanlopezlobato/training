{
 "cells": [
  {
   "cell_type": "markdown",
   "metadata": {},
   "source": [
    "<img src=\"https://bit.ly/2VnXWr2\" width=\"100\" align=\"left\">"
   ]
  },
  {
   "cell_type": "markdown",
   "metadata": {},
   "source": [
    "# Rock, Paper & Scissors\n",
    "\n",
    "Let's play the famous game against our computer. You can check the rules [here](https://en.wikipedia.org/wiki/Rock%E2%80%93paper%E2%80%93scissors). \n",
    "\n",
    "## Task\n",
    "Create a program that imitates the playability of the well known game of rock, paper, scissors. Follow the guidelines provided.\n",
    "\n",
    "## Tools\n",
    "1. Loop: **for/while**\n",
    "2. Functions: **input(), print()...**\n",
    "3. Conditional statements: **if, elif, else**\n",
    "4. Definition of functions. Modular programming\n",
    "5. Import modules\n",
    "\n",
    "**To solve this challenge, the use of functions is recommended.**\n",
    "\n",
    "#### 1. Import the choice function of the random module."
   ]
  },
  {
   "cell_type": "code",
   "execution_count": 1,
   "metadata": {},
   "outputs": [],
   "source": [
    "import random"
   ]
  },
  {
   "cell_type": "markdown",
   "metadata": {},
   "source": [
    "#### 2. Create a list that includes the 3 possible gesture options of the game: 'rock', 'paper' or 'scissors'. Store the list in a variable called `gestures`."
   ]
  },
  {
   "cell_type": "code",
   "execution_count": 2,
   "metadata": {},
   "outputs": [],
   "source": [
    "# global variable, used inside functions\n",
    "gestures = [\"rock\", \"paper\", \"scissors\"]"
   ]
  },
  {
   "cell_type": "markdown",
   "metadata": {},
   "source": [
    "#### 3. Create a variable called `n_rounds` to store the maximum number of rounds to play in a game. \n",
    "Remember that the number of rounds must be odd: 1, 3, 5, ..."
   ]
  },
  {
   "cell_type": "code",
   "execution_count": 3,
   "metadata": {},
   "outputs": [],
   "source": [
    "n_rounds = 5"
   ]
  },
  {
   "cell_type": "markdown",
   "metadata": {},
   "source": [
    "#### 4. Create a variable called `rounds_to_win` to store the number of rounds that a player must win to win the game.\n",
    "**Hint**: the value stored in `rounds_to_win` depends on the value of `n_rounds`. "
   ]
  },
  {
   "cell_type": "code",
   "execution_count": 4,
   "metadata": {},
   "outputs": [],
   "source": [
    "rounds_to_win = (n_rounds//2)+1"
   ]
  },
  {
   "cell_type": "markdown",
   "metadata": {},
   "source": [
    "#### 5. Create two variables to store the number of rounds that the computer and the player have won. Call these variables `cpu_score` and `player_score`."
   ]
  },
  {
   "cell_type": "code",
   "execution_count": 5,
   "metadata": {},
   "outputs": [],
   "source": [
    "cpu_score = 0\n",
    "player_score = 0"
   ]
  },
  {
   "cell_type": "markdown",
   "metadata": {},
   "source": [
    "#### 6. Define a function that randomly returns one of the 3 gesture options.\n",
    "You will use this function to simulate the gesture choice of the computer. "
   ]
  },
  {
   "cell_type": "code",
   "execution_count": 6,
   "metadata": {},
   "outputs": [],
   "source": [
    "# get gesture from the cpu\n",
    "def get_cpu_gesture(gestures):\n",
    "    return random.choice(gestures)"
   ]
  },
  {
   "cell_type": "markdown",
   "metadata": {},
   "source": [
    "#### 7. Define a function that asks the player which is the gesture he or she wants to show: 'rock', 'paper' or 'scissors'.\n",
    "The player should only be allowed to choose one of the 3 gesture options. If the player's choice is not rock, paper or scissors, keep asking until it is."
   ]
  },
  {
   "cell_type": "code",
   "execution_count": 7,
   "metadata": {},
   "outputs": [],
   "source": [
    "# get gesture from the player, type selection\n",
    "def get_player_gesture(gestures):\n",
    "    print(*gestures, sep=\"\\n\")\n",
    "    player = input(\"Please, PLAYER, type one of the options: \")\n",
    "    while player not in gestures:\n",
    "        player = input(\"Please, PLAYER, type one of the options: \")\n",
    "    return player\n"
   ]
  },
  {
   "cell_type": "markdown",
   "metadata": {},
   "source": [
    "#### 8. Define a function that checks who won a round. \n",
    "The function should return 0 if there is a tie, 1 if the computer wins and 2 if the player wins."
   ]
  },
  {
   "cell_type": "code",
   "execution_count": 8,
   "metadata": {},
   "outputs": [],
   "source": [
    "# apparently python has no CASE option, suggested to use dict\n",
    "# in this case, we 3 option, go for if/elif\n",
    "\n",
    "# get the winner among the gestures\n",
    "def get_winner(cpu, player):\n",
    "    winner=0\n",
    "    if player == cpu:\n",
    "        winner=0\n",
    "        return winner\n",
    "    elif player == \"rock\":\n",
    "        if cpu == \"paper\":\n",
    "            winner = 1\n",
    "            return winner\n",
    "        elif cpu == \"scissors\":\n",
    "            winner = 2\n",
    "            return winner\n",
    "    elif player == \"paper\":\n",
    "        if cpu == \"rock\":\n",
    "            winner = 2\n",
    "            return winner\n",
    "        elif cpu == \"scissors\":\n",
    "            winner = 1\n",
    "            return winner\n",
    "    elif player == \"scissors\":\n",
    "        if cpu == \"rock\":\n",
    "            winner = 1\n",
    "            return winner\n",
    "        elif cpu == \"paper\":\n",
    "            winner = 2\n",
    "            return winner\n",
    "    else:\n",
    "        winner=0\n",
    "        print(\"Result not possible\")\n",
    "        return winner"
   ]
  },
  {
   "cell_type": "markdown",
   "metadata": {},
   "source": [
    "#### 9. Define a function that prints the choice of the computer, the choice of the player and a message that announces who won the current round. \n",
    "You should also use this function to update the variables that count the number of rounds that the computer and the player have won. The score of the winner increases by one point. If there is a tie, the score does not increase."
   ]
  },
  {
   "cell_type": "code",
   "execution_count": 9,
   "metadata": {},
   "outputs": [],
   "source": [
    "# proccess one round\n",
    "def get_round_winner(gestures):\n",
    "    player = get_player_gesture(gestures)\n",
    "    cpu = get_cpu_gesture(gestures)\n",
    "    print(\"CPU selects: \", cpu)\n",
    "    winner = get_winner(cpu, player)\n",
    "    # dict to print the result, screen informative\n",
    "    print_result = {0:\"Tied\", 1:\"CPU wins\", 2:\"PLAYER wins\"}\n",
    "    print(print_result[winner])\n",
    "    return winner\n",
    "\n",
    "# updates the score according to the result of the get_round_winner\n",
    "def get_score_updated(winner, cpu_score, player_score):\n",
    "    if winner == 0:\n",
    "        return cpu_score, player_score\n",
    "    elif winner == 1:\n",
    "        cpu_score +=1\n",
    "        return cpu_score, player_score\n",
    "    elif winner == 2:\n",
    "        player_score += 1\n",
    "        return cpu_score, player_score\n",
    "    else:\n",
    "        print(\"Winner not valid\")\n",
    "        return cpu_score, player_score\n",
    "\n",
    "# prints the final result according to the score board\n",
    "def get_game_winner(cpu_score, player_score):\n",
    "    if cpu_score == player_score:\n",
    "        print(\"CPU won \", cpu_score, \" rounds\")\n",
    "        print(\"PLAYER won \", player_score, \" rounds\")\n",
    "        print(\"The game is TIED\")\n",
    "    elif cpu_score > player_score:\n",
    "        print(\"CPU won \", cpu_score, \" rounds\")\n",
    "        print(\"PLAYER won \", player_score, \" rounds\")\n",
    "        print(\"CPU wins the GAME\")\n",
    "    elif cpu_score < player_score:\n",
    "        print(\"CPU won \", cpu_score, \" rounds\")\n",
    "        print(\"PLAYER won \", player_score, \" rounds\")\n",
    "        print(\"PLAYER wins the GAME\")\n",
    "    print(\"Game Over\")\n",
    "    return None"
   ]
  },
  {
   "cell_type": "markdown",
   "metadata": {},
   "source": [
    "#### 10. Now it's time to code the execution of the game using the functions and variables you defined above. \n",
    "\n",
    "First, create a loop structure that repeats while no player reaches the minimum score necessary to win and the number of rounds is less than the maximum number of rounds to play in a game.  \n",
    "\n",
    "Inside the loop, use the functions and variables above to create the execution of a round: ask for the player's choice, generate the random choice of the computer, show the round results, update the scores, etc. "
   ]
  },
  {
   "cell_type": "code",
   "execution_count": 10,
   "metadata": {},
   "outputs": [],
   "source": [
    "# reset the values above\n",
    "gestures = [\"rock\", \"paper\", \"scissors\"]\n",
    "n_rounds = 5\n",
    "rounds_to_win = (n_rounds//2)+1\n",
    "cpu_score = 0\n",
    "player_score = 0"
   ]
  },
  {
   "cell_type": "code",
   "execution_count": 11,
   "metadata": {},
   "outputs": [
    {
     "name": "stdout",
     "output_type": "stream",
     "text": [
      "------------\n",
      "ROUND NUMBER 1\n",
      "rock\n",
      "paper\n",
      "scissors\n",
      "Please, PLAYER, type one of the options: rock\n",
      "CPU selects:  paper\n",
      "CPU wins\n",
      "\n",
      "CPU score is  1\n",
      "PLAYER score is  0\n",
      "------------\n",
      "ROUND NUMBER 2\n",
      "rock\n",
      "paper\n",
      "scissors\n",
      "Please, PLAYER, type one of the options: rock\n",
      "CPU selects:  paper\n",
      "CPU wins\n",
      "\n",
      "CPU score is  2\n",
      "PLAYER score is  0\n",
      "------------\n",
      "ROUND NUMBER 3\n",
      "rock\n",
      "paper\n",
      "scissors\n",
      "Please, PLAYER, type one of the options: rock\n",
      "CPU selects:  paper\n",
      "CPU wins\n",
      "\n",
      "CPU score is  3\n",
      "PLAYER score is  0\n",
      "------------\n",
      "CPU won  3  rounds\n",
      "PLAYER won  0  rounds\n",
      "CPU wins the GAME\n",
      "Game Over\n"
     ]
    }
   ],
   "source": [
    "rounds = 0\n",
    "\n",
    "# note: while is executed when every condition is True (separated by &)\n",
    "# DON'T confuse to set with OR, since it will imply that every condition must be FALSE to stop the loop\n",
    "# if it is separated by an OR the loop will continue till both cpu & player reach the amount of wins,\n",
    "# necessarily much further than the amount of rounds expected\n",
    "\n",
    "while (cpu_score < rounds_to_win) & (player_score < rounds_to_win) & (rounds < n_rounds):\n",
    "    print(\"------------\")\n",
    "    print(\"ROUND NUMBER\", rounds+1)\n",
    "    winner = get_round_winner(gestures)  \n",
    "    cpu_score, player_score = get_score_updated(winner, cpu_score, player_score)\n",
    "    print(\"\")\n",
    "    print(\"CPU score is \", cpu_score)\n",
    "    print(\"PLAYER score is \", player_score)\n",
    "    rounds +=1\n",
    "print(\"------------\")\n",
    "get_game_winner(cpu_score, player_score)"
   ]
  },
  {
   "cell_type": "markdown",
   "metadata": {},
   "source": [
    "#### 11. Print the winner of the game based on who won more rounds.\n",
    "Remember that the game might be tied. "
   ]
  },
  {
   "cell_type": "code",
   "execution_count": 12,
   "metadata": {},
   "outputs": [
    {
     "name": "stdout",
     "output_type": "stream",
     "text": [
      "CPU won  3  rounds\n",
      "PLAYER won  0  rounds\n",
      "CPU wins the GAME\n",
      "Game Over\n"
     ]
    }
   ],
   "source": [
    "get_game_winner(cpu_score, player_score)"
   ]
  },
  {
   "cell_type": "markdown",
   "metadata": {},
   "source": [
    "# Bonus: Rock, Paper, Scissors, Lizard & Spock\n",
    "![](images/rpsls.jpg)\n",
    "\n",
    "In this challenge, you need to improve the previous game by adding two new options. To know more about the rules of the improved version of rock, paper, scissors, check this [link](http://www.samkass.com/theories/RPSSL.html). \n",
    "\n",
    "In addition, you will also need to improve how the game interacts with the player: the number of rounds to play, which must be an odd number, will be requested to the user until a valid number is entered. Define a new function to make that request.\n",
    "\n",
    "**Hint**: Try to reuse the code that you already coded in the previous challenge. If your code is efficient, this bonus will only consist of simple modifications to the original game."
   ]
  },
  {
   "cell_type": "markdown",
   "metadata": {},
   "source": [
    "### Considering this extension of the game\n",
    "#### list functions create:\n",
    "- get_cpu_gesture\n",
    "- get_player_gesture\n",
    "- get_winner\n",
    "- get_round_winner\n",
    "- get_score_updated\n",
    "- get_game_winner"
   ]
  },
  {
   "cell_type": "code",
   "execution_count": 13,
   "metadata": {},
   "outputs": [],
   "source": [
    "# only needs to ensure update the gesture list\n",
    "# and re-do the \"get_winner\" function & get_round_winner\n",
    "\n",
    "gestures = [\"rock\", \"paper\", \"scissors\", \"lizard\", \"spock\"]"
   ]
  },
  {
   "cell_type": "code",
   "execution_count": 14,
   "metadata": {},
   "outputs": [],
   "source": [
    "def get_winner_v2(cpu, player):\n",
    "    winner=0\n",
    "    if player == cpu:\n",
    "        winner=0\n",
    "        return winner\n",
    "    elif player == \"rock\":\n",
    "        if cpu == \"paper\":\n",
    "            winner = 1\n",
    "            return winner\n",
    "        elif cpu == \"scissors\":\n",
    "            winner = 2\n",
    "            return winner\n",
    "        elif cpu == \"lizard\":\n",
    "            winner = 2\n",
    "            return winner\n",
    "        elif cpu == \"spock\":\n",
    "            winner = 1\n",
    "            return winner\n",
    "    elif player == \"paper\":\n",
    "        if cpu == \"rock\":\n",
    "            winner = 2\n",
    "            return winner\n",
    "        elif cpu == \"scissors\":\n",
    "            winner = 1\n",
    "            return winner\n",
    "        elif cpu == \"lizard\":\n",
    "            winner = 1\n",
    "            return winner\n",
    "        elif cpu == \"spock\":\n",
    "            winner = 2\n",
    "            return winner\n",
    "    elif player == \"scissors\":\n",
    "        if cpu == \"rock\":\n",
    "            winner = 1\n",
    "            return winner\n",
    "        elif cpu == \"paper\":\n",
    "            winner = 2\n",
    "            return winner\n",
    "        elif cpu == \"lizard\":\n",
    "            winner = 2\n",
    "            return winner\n",
    "        elif cpu == \"spock\":\n",
    "            winner = 1\n",
    "            return winner\n",
    "    elif player == \"lizard\":\n",
    "        if cpu == \"rock\":\n",
    "            winner = 1\n",
    "            return winner\n",
    "        elif cpu == \"paper\":\n",
    "            winner = 2\n",
    "            return winner\n",
    "        elif cpu == \"scissors\":\n",
    "            winner = 1\n",
    "            return winner\n",
    "        elif cpu == \"spock\":\n",
    "            winner = 2\n",
    "            return winner\n",
    "    elif player == \"spock\":\n",
    "        if cpu == \"rock\":\n",
    "            winner = 2\n",
    "            return winner\n",
    "        elif cpu == \"paper\":\n",
    "            winner = 1\n",
    "            return winner\n",
    "        elif cpu == \"scissors\":\n",
    "            winner = 2\n",
    "            return winner\n",
    "        elif cpu == \"lizard\":\n",
    "            winner = 1\n",
    "            return winner\n",
    "    else:\n",
    "        winner=0\n",
    "        print(\"Result not possible\")\n",
    "        return winner"
   ]
  },
  {
   "cell_type": "code",
   "execution_count": 15,
   "metadata": {},
   "outputs": [],
   "source": [
    "# proccess one round\n",
    "def get_round_winner_v2(gestures):\n",
    "    player = get_player_gesture(gestures)\n",
    "    cpu = get_cpu_gesture(gestures)\n",
    "    print(\"CPU selects: \", cpu)\n",
    "    winner = get_winner_v2(cpu, player)\n",
    "    # dict to print the result, screen informative\n",
    "    print_result = {0:\"Tied\", 1:\"CPU wins\", 2:\"PLAYER wins\"}\n",
    "    print(print_result[winner])\n",
    "    return winner"
   ]
  },
  {
   "cell_type": "code",
   "execution_count": 16,
   "metadata": {},
   "outputs": [],
   "source": [
    "# create a function for the version 2 of the game\n",
    "def play_game_v2(n_rounds, gestures):\n",
    "    \n",
    "    # setting the initial values\n",
    "    rounds_to_win = (n_rounds//2)+1\n",
    "    cpu_score = 0\n",
    "    player_score = 0  \n",
    "    rounds = 0\n",
    "    # loop for getting the winner\n",
    "    while (cpu_score < rounds_to_win) & (player_score < rounds_to_win) & (rounds < n_rounds):\n",
    "        print(\"------------\")\n",
    "        print(\"ROUND NUMBER\", rounds+1)\n",
    "        winner = get_round_winner_v2(gestures)  \n",
    "        cpu_score, player_score = get_score_updated(winner, cpu_score, player_score)\n",
    "        print(\"\")\n",
    "        print(\"CPU score is \", cpu_score)\n",
    "        print(\"PLAYER score is \", player_score)\n",
    "        rounds +=1\n",
    "    print(\"------------\")\n",
    "    # print result\n",
    "    get_game_winner(cpu_score, player_score)\n",
    "    return None"
   ]
  },
  {
   "cell_type": "code",
   "execution_count": 17,
   "metadata": {},
   "outputs": [
    {
     "name": "stdout",
     "output_type": "stream",
     "text": [
      "------------\n",
      "ROUND NUMBER 1\n",
      "rock\n",
      "paper\n",
      "scissors\n",
      "lizard\n",
      "spock\n",
      "Please, PLAYER, type one of the options: spock\n",
      "CPU selects:  paper\n",
      "CPU wins\n",
      "\n",
      "CPU score is  1\n",
      "PLAYER score is  0\n",
      "------------\n",
      "ROUND NUMBER 2\n",
      "rock\n",
      "paper\n",
      "scissors\n",
      "lizard\n",
      "spock\n",
      "Please, PLAYER, type one of the options: spock\n",
      "CPU selects:  rock\n",
      "PLAYER wins\n",
      "\n",
      "CPU score is  1\n",
      "PLAYER score is  1\n",
      "------------\n",
      "ROUND NUMBER 3\n",
      "rock\n",
      "paper\n",
      "scissors\n",
      "lizard\n",
      "spock\n",
      "Please, PLAYER, type one of the options: spock\n",
      "CPU selects:  rock\n",
      "PLAYER wins\n",
      "\n",
      "CPU score is  1\n",
      "PLAYER score is  2\n",
      "------------\n",
      "ROUND NUMBER 4\n",
      "rock\n",
      "paper\n",
      "scissors\n",
      "lizard\n",
      "spock\n",
      "Please, PLAYER, type one of the options: spock\n",
      "CPU selects:  paper\n",
      "CPU wins\n",
      "\n",
      "CPU score is  2\n",
      "PLAYER score is  2\n",
      "------------\n",
      "ROUND NUMBER 5\n",
      "rock\n",
      "paper\n",
      "scissors\n",
      "lizard\n",
      "spock\n",
      "Please, PLAYER, type one of the options: spock\n",
      "CPU selects:  rock\n",
      "PLAYER wins\n",
      "\n",
      "CPU score is  2\n",
      "PLAYER score is  3\n",
      "------------\n",
      "ROUND NUMBER 6\n",
      "rock\n",
      "paper\n",
      "scissors\n",
      "lizard\n",
      "spock\n",
      "Please, PLAYER, type one of the options: spock\n",
      "CPU selects:  spock\n",
      "Tied\n",
      "\n",
      "CPU score is  2\n",
      "PLAYER score is  3\n",
      "------------\n",
      "ROUND NUMBER 7\n",
      "rock\n",
      "paper\n",
      "scissors\n",
      "lizard\n",
      "spock\n",
      "Please, PLAYER, type one of the options: spock\n",
      "CPU selects:  scissors\n",
      "PLAYER wins\n",
      "\n",
      "CPU score is  2\n",
      "PLAYER score is  4\n",
      "------------\n",
      "CPU won  2  rounds\n",
      "PLAYER won  4  rounds\n",
      "PLAYER wins the GAME\n",
      "Game Over\n"
     ]
    }
   ],
   "source": [
    "# note that changing the gestures to the initial 3-options game, the v2 will work as well\n",
    "gestures = [\"rock\", \"paper\", \"scissors\", \"lizard\", \"spock\"]\n",
    "n_rounds = 7\n",
    "\n",
    "play_game_v2(n_rounds, gestures)"
   ]
  }
 ],
 "metadata": {
  "kernelspec": {
   "display_name": "Python 3",
   "language": "python",
   "name": "python3"
  },
  "language_info": {
   "codemirror_mode": {
    "name": "ipython",
    "version": 3
   },
   "file_extension": ".py",
   "mimetype": "text/x-python",
   "name": "python",
   "nbconvert_exporter": "python",
   "pygments_lexer": "ipython3",
   "version": "3.7.5"
  }
 },
 "nbformat": 4,
 "nbformat_minor": 2
}
