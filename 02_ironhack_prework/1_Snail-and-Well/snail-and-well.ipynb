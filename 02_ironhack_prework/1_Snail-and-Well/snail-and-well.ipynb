{
 "cells": [
  {
   "cell_type": "markdown",
   "metadata": {},
   "source": [
    "<img src=\"https://bit.ly/2VnXWr2\" width=\"100\" align=\"left\">"
   ]
  },
  {
   "cell_type": "markdown",
   "metadata": {},
   "source": [
    "# The Snail and the Well\n",
    "\n",
    "A snail falls at the bottom of a 125 cm well. Each day the snail rises 30 cm. But at night, while sleeping, slides 20 cm because the walls are wet. How many days does it take for the snail to escape the well?\n",
    "\n",
    "**Hint**: The snail gets out of the well when it surpasses the 125cm of height.\n",
    "\n",
    "\n",
    "## Tasks\n",
    "\n",
    "#### 1. Assign the challenge data to variables with representative names: `well_height`, `daily_distance`, `nightly_distance` and `snail_position`."
   ]
  },
  {
   "cell_type": "code",
   "execution_count": 1,
   "metadata": {},
   "outputs": [],
   "source": [
    "well_height = 125\n",
    "daily_distance = 30\n",
    "nightly_distance = 20\n",
    "snail_position = 0"
   ]
  },
  {
   "cell_type": "markdown",
   "metadata": {},
   "source": [
    "#### 2. Create a variable `days` to keep count of the days that pass until the snail escapes the well. "
   ]
  },
  {
   "cell_type": "code",
   "execution_count": 2,
   "metadata": {},
   "outputs": [],
   "source": [
    "days = 0"
   ]
  },
  {
   "cell_type": "markdown",
   "metadata": {},
   "source": [
    "#### 3. Find the solution to the challenge using the variables defined above. "
   ]
  },
  {
   "cell_type": "code",
   "execution_count": 3,
   "metadata": {},
   "outputs": [
    {
     "name": "stdout",
     "output_type": "stream",
     "text": [
      "after day the position is 30\n",
      "after night the position is 10\n",
      "1  days has passed\n",
      "after day the position is 40\n",
      "after night the position is 20\n",
      "2  days has passed\n",
      "after day the position is 50\n",
      "after night the position is 30\n",
      "3  days has passed\n",
      "after day the position is 60\n",
      "after night the position is 40\n",
      "4  days has passed\n",
      "after day the position is 70\n",
      "after night the position is 50\n",
      "5  days has passed\n",
      "after day the position is 80\n",
      "after night the position is 60\n",
      "6  days has passed\n",
      "after day the position is 90\n",
      "after night the position is 70\n",
      "7  days has passed\n",
      "after day the position is 100\n",
      "after night the position is 80\n",
      "8  days has passed\n",
      "after day the position is 110\n",
      "after night the position is 90\n",
      "9  days has passed\n",
      "after day the position is 120\n",
      "after night the position is 100\n",
      "10  days has passed\n",
      "after day the position is 130\n",
      "11  days has passed\n"
     ]
    }
   ],
   "source": [
    "while snail_position < well_height:\n",
    "    snail_position += daily_distance\n",
    "    print(\"after day the position is\", snail_position)\n",
    "    if snail_position < well_height:\n",
    "        snail_position -= nightly_distance\n",
    "        print(\"after night the position is\", snail_position)\n",
    "    days +=1\n",
    "    print(days, \" days has passed\")"
   ]
  },
  {
   "cell_type": "markdown",
   "metadata": {},
   "source": [
    "#### 4. Print the solution."
   ]
  },
  {
   "cell_type": "code",
   "execution_count": 4,
   "metadata": {},
   "outputs": [
    {
     "name": "stdout",
     "output_type": "stream",
     "text": [
      "has passed  11  days\n"
     ]
    }
   ],
   "source": [
    "print(\"has passed \", days, \" days\")"
   ]
  },
  {
   "cell_type": "markdown",
   "metadata": {},
   "source": [
    "## Bonus\n",
    "The distance traveled by the snail each day is now defined by a list.\n",
    "```\n",
    "advance_cm = [30, 21, 33, 77, 44, 45, 23, 45, 12, 34, 55]\n",
    "```\n",
    "On the first day, the snail rises 30cm but during the night it slides 20cm. On the second day, the snail rises 21cm but during the night it slides 20cm, and so on. \n",
    "\n",
    "#### 1. How many days does it take for the snail to escape the well?\n",
    "Follow the same guidelines as in the previous challenge.\n",
    "\n",
    "**Hint**: Remember that the snail gets out of the well when it surpasses the 125cm of height."
   ]
  },
  {
   "cell_type": "code",
   "execution_count": 5,
   "metadata": {},
   "outputs": [],
   "source": [
    "advance_cm = [30, 21, 33, 77, 44, 45, 23, 45, 12, 34, 55]\n",
    "i = 0\n",
    "\n",
    "# reset the counter\n",
    "snail_position = 0\n",
    "days = 0"
   ]
  },
  {
   "cell_type": "code",
   "execution_count": 6,
   "metadata": {},
   "outputs": [
    {
     "name": "stdout",
     "output_type": "stream",
     "text": [
      "after daytime the position is 30\n",
      "after night time the position is 10\n",
      "1  days has passed\n",
      "after daytime the position is 31\n",
      "after night time the position is 11\n",
      "2  days has passed\n",
      "after daytime the position is 44\n",
      "after night time the position is 24\n",
      "3  days has passed\n",
      "after daytime the position is 101\n",
      "after night time the position is 81\n",
      "4  days has passed\n",
      "after daytime the position is 125\n",
      "5  days has passed\n",
      "\n",
      "the snail gets out of the well after  5  days\n"
     ]
    }
   ],
   "source": [
    "while snail_position < well_height:\n",
    "    snail_position += advance_cm[i]\n",
    "    i +=1\n",
    "    print(\"after daytime the position is\", snail_position)\n",
    "    if snail_position < well_height:\n",
    "        snail_position -= nightly_distance\n",
    "        print(\"after night time the position is\", snail_position)\n",
    "    days +=1\n",
    "    print(days, \" days has passed\")\n",
    "\n",
    "print(\"\")    \n",
    "print(\"the snail gets out of the well after \", days,\" days\")"
   ]
  },
  {
   "cell_type": "markdown",
   "metadata": {},
   "source": [
    "#### 2. What is its maximum displacement in one day? And its minimum? Calculate the displacement using only the travel distance of the days used to get out of the well. \n",
    "**Hint**: Remember that displacement means the total distance risen taking into account that the snail slides at night.  "
   ]
  },
  {
   "cell_type": "code",
   "execution_count": 7,
   "metadata": {},
   "outputs": [
    {
     "name": "stdout",
     "output_type": "stream",
     "text": [
      "daily displacement is  [10, 1, 13, 57, 45]\n",
      "max displacement in a day was  57\n",
      "max displacement in a day was  1\n"
     ]
    }
   ],
   "source": [
    "# create a list with the netto displacement progress during day time - slide during night time\n",
    "displacement_cm = []\n",
    "\n",
    "# asked to consider only the actual days that the snail takes to arrive to the top\n",
    "# last day is subtracted because that night won't slide down (already arrived to the submit)\n",
    "for i in range(days-1):\n",
    "    displacement_cm.append(advance_cm[i] - nightly_distance)\n",
    "\n",
    "# we append the value of the last day of advance_cm to the displacement list\n",
    "displacement_cm.append(advance_cm[days])\n",
    "\n",
    "#list of netto displacement\n",
    "print(\"daily displacement is \",displacement_cm)\n",
    "\n",
    "# max displacement\n",
    "print(\"max displacement in a day was \", max(displacement_cm))\n",
    "\n",
    "# min displacement\n",
    "print(\"max displacement in a day was \", min(displacement_cm))"
   ]
  },
  {
   "cell_type": "markdown",
   "metadata": {},
   "source": [
    "#### 3. What is its average progress? Take into account the snail slides at night."
   ]
  },
  {
   "cell_type": "code",
   "execution_count": 8,
   "metadata": {},
   "outputs": [
    {
     "data": {
      "text/plain": [
       "25.2"
      ]
     },
     "execution_count": 8,
     "metadata": {},
     "output_type": "execute_result"
    }
   ],
   "source": [
    "# taking into consideration only the progress till arriving to the summit\n",
    "sum(displacement_cm)/len(displacement_cm)"
   ]
  },
  {
   "cell_type": "markdown",
   "metadata": {},
   "source": [
    "#### 4. What is the standard deviation of its displacement? Take into account the snail slides at night."
   ]
  },
  {
   "cell_type": "code",
   "execution_count": 9,
   "metadata": {},
   "outputs": [
    {
     "data": {
      "text/plain": [
       "24.335159748807897"
      ]
     },
     "execution_count": 9,
     "metadata": {},
     "output_type": "execute_result"
    }
   ],
   "source": [
    "import statistics\n",
    "statistics.stdev(displacement_cm)"
   ]
  }
 ],
 "metadata": {
  "kernelspec": {
   "display_name": "Python 3",
   "language": "python",
   "name": "python3"
  },
  "language_info": {
   "codemirror_mode": {
    "name": "ipython",
    "version": 3
   },
   "file_extension": ".py",
   "mimetype": "text/x-python",
   "name": "python",
   "nbconvert_exporter": "python",
   "pygments_lexer": "ipython3",
   "version": "3.7.5"
  }
 },
 "nbformat": 4,
 "nbformat_minor": 2
}
