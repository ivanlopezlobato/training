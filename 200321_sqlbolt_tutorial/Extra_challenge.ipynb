{
 "cells": [
  {
   "cell_type": "markdown",
   "metadata": {},
   "source": [
    "### Extra Challenge\n",
    "\n",
    "Complex queries with basic tables as challenge"
   ]
  },
  {
   "cell_type": "markdown",
   "metadata": {},
   "source": [
    "- Get all movies (id, title and year) in which Keanu Reeves AND Laurence Fishburne starred together\n",
    "\n",
    "```mysql\n",
    "SELECT\n",
    "\tm.movie_id,\n",
    "\tm.title,\n",
    "\tm.year\n",
    "FROM\n",
    "\tfm_movies_actors_test m_a\n",
    "INNER JOIN\n",
    "\tfm_movies_test m\n",
    "\tON m_a.movie_id = m.movie_id\n",
    "INNER JOIN \n",
    "\tfm_actors_test a\n",
    "\tON m_a.actor_id = a.actor_id\n",
    "WHERE\n",
    "\ta.name = \"Keanu Reeves\"\n",
    "\tOR a.name = \"Laurence Fishburne\"\n",
    "GROUP BY 1\n",
    "HAVING COUNT(m.movie_id) = 2\n",
    "```"
   ]
  },
  {
   "cell_type": "markdown",
   "metadata": {},
   "source": [
    "- Get the actor/actress who had the second most appearances during the 90's\n",
    "\n",
    "```mysql\n",
    "WITH t AS\n",
    "(SELECT\n",
    "\tname,\n",
    "\tcount(name) AS amount_movies,\n",
    "\tRANK() OVER (ORDER BY COUNT(name) DESC) AS ranking\n",
    "FROM\n",
    "\tfm_movies_actors_test m_a\n",
    "INNER JOIN fm_movies_test m\n",
    "\tON m_a.movie_id = m.movie_id\n",
    "INNER JOIN fm_actors_test a\n",
    "\tON m_a.actor_id = a.actor_id\n",
    "WHERE\n",
    "\tm.year BETWEEN 1990 AND 1999\n",
    "GROUP BY\n",
    "\tname)\n",
    "SELECT * FROM t\n",
    "WHERE ranking = 2\n",
    "```"
   ]
  },
  {
   "cell_type": "code",
   "execution_count": null,
   "metadata": {},
   "outputs": [],
   "source": []
  }
 ],
 "metadata": {
  "kernelspec": {
   "display_name": "Python 3",
   "language": "python",
   "name": "python3"
  },
  "language_info": {
   "codemirror_mode": {
    "name": "ipython",
    "version": 3
   },
   "file_extension": ".py",
   "mimetype": "text/x-python",
   "name": "python",
   "nbconvert_exporter": "python",
   "pygments_lexer": "ipython3",
   "version": "3.7.5"
  }
 },
 "nbformat": 4,
 "nbformat_minor": 2
}
