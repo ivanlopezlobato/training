{
 "cells": [
  {
   "cell_type": "markdown",
   "metadata": {},
   "source": [
    "### Extra Challenge\n",
    "\n",
    "Complex queries with basic tables as challenge"
   ]
  },
  {
   "cell_type": "code",
   "execution_count": 1,
   "metadata": {},
   "outputs": [],
   "source": [
    "import pandas as pd\n",
    "import numpy as np\n",
    "\n",
    "pd.set_option(\"display.max_rows\",100)"
   ]
  },
  {
   "cell_type": "markdown",
   "metadata": {},
   "source": [
    "- Get all movies (id, title and year) in which Keanu Reeves AND Laurence Fishburne starred together\n",
    "\n",
    "```mysql\n",
    "SELECT\n",
    "\tm.movie_id,\n",
    "\tm.title,\n",
    "\tm.year\n",
    "FROM\n",
    "\tfm_movies_actors_test m_a\n",
    "INNER JOIN\n",
    "\tfm_movies_test m\n",
    "\tON m_a.movie_id = m.movie_id\n",
    "INNER JOIN \n",
    "\tfm_actors_test a\n",
    "\tON m_a.actor_id = a.actor_id\n",
    "WHERE\n",
    "\ta.name = \"Keanu Reeves\"\n",
    "\tOR a.name = \"Laurence Fishburne\"\n",
    "GROUP BY 1\n",
    "HAVING COUNT(m.movie_id) = 2\n",
    "```"
   ]
  },
  {
   "cell_type": "code",
   "execution_count": 2,
   "metadata": {},
   "outputs": [],
   "source": [
    "# import CSV\n",
    "actors = pd.read_csv(\"data/fm_actors.csv\")\n",
    "movies = pd.read_csv(\"data/fm_movies.csv\")\n",
    "m_a = pd.read_csv(\"data/fm_movies_actors.csv\")\n"
   ]
  },
  {
   "cell_type": "code",
   "execution_count": 3,
   "metadata": {},
   "outputs": [
    {
     "data": {
      "text/html": [
       "<div>\n",
       "<style scoped>\n",
       "    .dataframe tbody tr th:only-of-type {\n",
       "        vertical-align: middle;\n",
       "    }\n",
       "\n",
       "    .dataframe tbody tr th {\n",
       "        vertical-align: top;\n",
       "    }\n",
       "\n",
       "    .dataframe thead th {\n",
       "        text-align: right;\n",
       "    }\n",
       "</style>\n",
       "<table border=\"1\" class=\"dataframe\">\n",
       "  <thead>\n",
       "    <tr style=\"text-align: right;\">\n",
       "      <th></th>\n",
       "      <th>movie_id</th>\n",
       "      <th>actor_id</th>\n",
       "      <th>year</th>\n",
       "      <th>name</th>\n",
       "    </tr>\n",
       "    <tr>\n",
       "      <th>title</th>\n",
       "      <th></th>\n",
       "      <th></th>\n",
       "      <th></th>\n",
       "      <th></th>\n",
       "    </tr>\n",
       "  </thead>\n",
       "  <tbody>\n",
       "    <tr>\n",
       "      <th>The Matrix</th>\n",
       "      <td>2</td>\n",
       "      <td>2</td>\n",
       "      <td>2</td>\n",
       "      <td>2</td>\n",
       "    </tr>\n",
       "  </tbody>\n",
       "</table>\n",
       "</div>"
      ],
      "text/plain": [
       "            movie_id  actor_id  year  name\n",
       "title                                     \n",
       "The Matrix         2         2     2     2"
      ]
     },
     "execution_count": 3,
     "metadata": {},
     "output_type": "execute_result"
    }
   ],
   "source": [
    "# get movies where Keanu and Laurence acted together\n",
    "\n",
    "# get dataframe with every movie and actor\n",
    "ma=(m_a.merge(movies, left_on=\"movie_id\", right_on=\"movie_id\")\n",
    "       .merge(actors, left_on=\"actor_id\", right_on=\"actor_id\"))\n",
    "\n",
    "# get every movie where Keanu or Laurence has acted, group by title and store the count (eg in movie title)\n",
    "ma_kl = (ma.loc[ma[\"name\"].eq(\"Keanu Reeves\")|ma[\"name\"].eq(\"Laurence Fishburne\")]\n",
    "           .groupby(\"title\")\n",
    "           .count())\n",
    "\n",
    "# if they has acted together, the count of the movie must be 2 (assuming and actor can't be casted twice in the same movie)\n",
    "ma_kl.loc[ma_kl[\"movie_id\"].eq(2)]"
   ]
  },
  {
   "cell_type": "markdown",
   "metadata": {},
   "source": [
    "- Get the actor/actress who had the second most appearances during the 90's\n",
    "\n",
    "```mysql\n",
    "WITH t AS\n",
    "(SELECT\n",
    "\tname,\n",
    "\tcount(name) AS amount_movies,\n",
    "\tRANK() OVER (ORDER BY COUNT(name) DESC) AS ranking\n",
    "FROM\n",
    "\tfm_movies_actors_test m_a\n",
    "INNER JOIN fm_movies_test m\n",
    "\tON m_a.movie_id = m.movie_id\n",
    "INNER JOIN fm_actors_test a\n",
    "\tON m_a.actor_id = a.actor_id\n",
    "WHERE\n",
    "\tm.year BETWEEN 1990 AND 1999\n",
    "GROUP BY\n",
    "\tname)\n",
    "SELECT * FROM t\n",
    "WHERE ranking = 2\n",
    "```"
   ]
  },
  {
   "cell_type": "code",
   "execution_count": 4,
   "metadata": {},
   "outputs": [
    {
     "data": {
      "text/html": [
       "<div>\n",
       "<style scoped>\n",
       "    .dataframe tbody tr th:only-of-type {\n",
       "        vertical-align: middle;\n",
       "    }\n",
       "\n",
       "    .dataframe tbody tr th {\n",
       "        vertical-align: top;\n",
       "    }\n",
       "\n",
       "    .dataframe thead th {\n",
       "        text-align: right;\n",
       "    }\n",
       "</style>\n",
       "<table border=\"1\" class=\"dataframe\">\n",
       "  <thead>\n",
       "    <tr style=\"text-align: right;\">\n",
       "      <th></th>\n",
       "      <th>movie_id</th>\n",
       "      <th>actor_id</th>\n",
       "      <th>title</th>\n",
       "      <th>year</th>\n",
       "    </tr>\n",
       "    <tr>\n",
       "      <th>name</th>\n",
       "      <th></th>\n",
       "      <th></th>\n",
       "      <th></th>\n",
       "      <th></th>\n",
       "    </tr>\n",
       "  </thead>\n",
       "  <tbody>\n",
       "    <tr>\n",
       "      <th>Brad Pitt</th>\n",
       "      <td>2</td>\n",
       "      <td>2</td>\n",
       "      <td>2</td>\n",
       "      <td>2</td>\n",
       "    </tr>\n",
       "    <tr>\n",
       "      <th>Edward Norton</th>\n",
       "      <td>1</td>\n",
       "      <td>1</td>\n",
       "      <td>1</td>\n",
       "      <td>1</td>\n",
       "    </tr>\n",
       "    <tr>\n",
       "      <th>John Travolta</th>\n",
       "      <td>1</td>\n",
       "      <td>1</td>\n",
       "      <td>1</td>\n",
       "      <td>1</td>\n",
       "    </tr>\n",
       "    <tr>\n",
       "      <th>Keanu Reeves</th>\n",
       "      <td>1</td>\n",
       "      <td>1</td>\n",
       "      <td>1</td>\n",
       "      <td>1</td>\n",
       "    </tr>\n",
       "    <tr>\n",
       "      <th>Laurence Fishburne</th>\n",
       "      <td>1</td>\n",
       "      <td>1</td>\n",
       "      <td>1</td>\n",
       "      <td>1</td>\n",
       "    </tr>\n",
       "    <tr>\n",
       "      <th>Morgan Freeman</th>\n",
       "      <td>1</td>\n",
       "      <td>1</td>\n",
       "      <td>1</td>\n",
       "      <td>1</td>\n",
       "    </tr>\n",
       "    <tr>\n",
       "      <th>Samuel L. Jackson</th>\n",
       "      <td>1</td>\n",
       "      <td>1</td>\n",
       "      <td>1</td>\n",
       "      <td>1</td>\n",
       "    </tr>\n",
       "  </tbody>\n",
       "</table>\n",
       "</div>"
      ],
      "text/plain": [
       "                    movie_id  actor_id  title  year\n",
       "name                                               \n",
       "Brad Pitt                  2         2      2     2\n",
       "Edward Norton              1         1      1     1\n",
       "John Travolta              1         1      1     1\n",
       "Keanu Reeves               1         1      1     1\n",
       "Laurence Fishburne         1         1      1     1\n",
       "Morgan Freeman             1         1      1     1\n",
       "Samuel L. Jackson          1         1      1     1"
      ]
     },
     "execution_count": 4,
     "metadata": {},
     "output_type": "execute_result"
    }
   ],
   "source": [
    "# filter \"ma\" by year, after group the merge of actors and titles by name, using count()\n",
    "(ma.loc[ma[\"year\"].ge(1990)&ma[\"year\"].le(1999)]\n",
    "   .groupby(\"name\")\n",
    "   .count()\n",
    "   .sort_values(by=\"movie_id\", ascending=False))"
   ]
  }
 ],
 "metadata": {
  "kernelspec": {
   "display_name": "Python 3",
   "language": "python",
   "name": "python3"
  },
  "language_info": {
   "codemirror_mode": {
    "name": "ipython",
    "version": 3
   },
   "file_extension": ".py",
   "mimetype": "text/x-python",
   "name": "python",
   "nbconvert_exporter": "python",
   "pygments_lexer": "ipython3",
   "version": "3.7.5"
  }
 },
 "nbformat": 4,
 "nbformat_minor": 2
}
