{
 "cells": [
  {
   "cell_type": "markdown",
   "metadata": {},
   "source": [
    "### Goal\n",
    "Summarise every exercise of SQL Bolt website and reproduce them in Python"
   ]
  },
  {
   "cell_type": "markdown",
   "metadata": {},
   "source": [
    "### SQL Lesson 1: SELECT queries 101\n",
    "\n",
    "- Find the title of each film\n",
    "\n",
    "SELECT Title FROM movies;\n",
    "\n",
    "- Find the director of each film\n",
    "\n",
    "SELECT Director FROM movies;\n",
    "\n",
    "- Find the title and director of each film\n",
    "\n",
    "SELECT Title, Director FROM movies;\n",
    "\n",
    "- Find the title and year of each film\n",
    "\n",
    "SELECT Title, Year FROM movies;\n",
    "\n",
    "- Find all the information about each film\n",
    "\n",
    "SELECT * FROM movies;"
   ]
  },
  {
   "cell_type": "markdown",
   "metadata": {},
   "source": [
    "### SQL Lesson 2: Queries with constraints (Pt. 1)\n",
    "\n",
    "- Find the movie with a row id of 6\n",
    "\n",
    "SELECT * FROM movies\n",
    "WHERE Id = 6;\n",
    "\n",
    "- Find the movies released in the years between 2000 and 2010\n",
    "\n",
    "SELECT * FROM movies\n",
    "WHERE year BETWEEN 2000 AND 2010;\n",
    "\n",
    "- Find the movies not released in the years between 2000 and 2010\n",
    "\n",
    "SELECT * FROM movies\n",
    "WHERE year NOT BETWEEN 2000 AND 2010;\n",
    "\n",
    "- Find the first 5 Pixar movies and their release year\n",
    "\n",
    "SELECT * FROM movies\n",
    "ORDER BY Year\n",
    "LIMIT 5;"
   ]
  },
  {
   "cell_type": "markdown",
   "metadata": {},
   "source": [
    "### SQL Lesson 3: Queries with constraints (Pt. 2)\n",
    "- Find all the Toy Story movies\n",
    "\n",
    "SELECT * FROM movies\n",
    "WHERE Title LIKE \"Toy Story%\";\n",
    "\n",
    "- Find all the movies directed by John Lasseter\n",
    "\n",
    "SELECT * FROM movies\n",
    "WHERE Director = \"John Lasseter\";\n",
    "\n",
    "- Find all the movies (and director) not directed by John Lasseter\n",
    "\n",
    "SELECT * FROM movies\n",
    "WHERE Director != \"John Lasseter\";\n",
    "\n",
    "- Find all the WALL-* movies\n",
    "\n",
    "SELECT * FROM movies\n",
    "WHERE Title LIKE \"WALL-%\";"
   ]
  },
  {
   "cell_type": "markdown",
   "metadata": {},
   "source": [
    "### SQL Lesson 4: Filtering and sorting Query results\n",
    "- List all directors of Pixar movies (alphabetically), without duplicates\n",
    "\n",
    "SELECT DISTINCT Director FROM movies\n",
    "ORDER BY Director;\n",
    "\n",
    "- List the last four Pixar movies released (ordered from most recent to least)\n",
    "\n",
    "SELECT Title FROM movies\n",
    "ORDER BY Year DESC\n",
    "LIMIT 4;\n",
    "\n",
    "- List the first five Pixar movies sorted alphabetically\n",
    "\n",
    "SELECT Title FROM movies\n",
    "ORDER BY Title ASC\n",
    "LIMIT 5;\n",
    "\n",
    "- List the next five Pixar movies sorted alphabetically\n",
    "\n",
    "SELECT Title FROM movies\n",
    "ORDER BY Title ASC\n",
    "LIMIT 5\n",
    "OFFSET 5;"
   ]
  },
  {
   "cell_type": "markdown",
   "metadata": {},
   "source": [
    "### SQL Review: Simple SELECT Queries\n",
    "- List all the Canadian cities and their populations\n",
    "\n",
    "SELECT City, Population FROM north_american_cities\n",
    "WHERE Country = \"Canada\";\n",
    "\n",
    "- Order all the cities in the United States by their latitude from north to south\n",
    "\n",
    "SELECT * FROM north_american_cities\n",
    "WHERE Country = \"United States\"\n",
    "ORDER BY Latitude DESC;\n",
    "\n",
    "- List all the cities west of Chicago, ordered from west to east\n",
    "\n",
    "SELECT city, longitude FROM north_american_cities\n",
    "WHERE\n",
    "Longitude < (\n",
    "    SELECT Longitude FROM north_american_cities\n",
    "    WHERE City = \"Chicago\")\n",
    "ORDER BY Longitude ASC;\n",
    "\n",
    "- List the two largest cities in Mexico (by population)\n",
    "\n",
    "SELECT City, Population FROM north_american_cities\n",
    "WHERE\n",
    "Country = \"Mexico\" \n",
    "ORDER BY Population DESC\n",
    "LIMIT 2;\n",
    "\n",
    "- List the third and fourth largest cities (by population) in the United States and their population\n",
    "\n",
    "SELECT City, Population FROM north_american_cities\n",
    "WHERE\n",
    "Country = \"United States\" \n",
    "ORDER BY Population DESC\n",
    "LIMIT 2\n",
    "OFFSET 2;\n"
   ]
  },
  {
   "cell_type": "code",
   "execution_count": null,
   "metadata": {},
   "outputs": [],
   "source": []
  }
 ],
 "metadata": {
  "kernelspec": {
   "display_name": "Python 3",
   "language": "python",
   "name": "python3"
  },
  "language_info": {
   "codemirror_mode": {
    "name": "ipython",
    "version": 3
   },
   "file_extension": ".py",
   "mimetype": "text/x-python",
   "name": "python",
   "nbconvert_exporter": "python",
   "pygments_lexer": "ipython3",
   "version": "3.7.5"
  }
 },
 "nbformat": 4,
 "nbformat_minor": 2
}
